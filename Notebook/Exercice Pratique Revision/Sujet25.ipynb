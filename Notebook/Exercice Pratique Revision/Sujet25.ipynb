{
 "cells": [
  {
   "attachments": {},
   "cell_type": "markdown",
   "metadata": {},
   "source": [
    "# Sujet 25 :"
   ]
  },
  {
   "attachments": {},
   "cell_type": "markdown",
   "metadata": {},
   "source": [
    "## Exercice 1 :"
   ]
  },
  {
   "cell_type": "code",
   "execution_count": 1,
   "metadata": {},
   "outputs": [],
   "source": [
    "def enumere(l:list):\n",
    "    d = {}\n",
    "    for i in range(len(l)):\n",
    "        if l[i] in d:\n",
    "            d[l[i]].append(i)\n",
    "        else:\n",
    "            d[l[i]] = [i]\n",
    "    return d\n",
    "\n"
   ]
  },
  {
   "cell_type": "code",
   "execution_count": 2,
   "metadata": {},
   "outputs": [
    {
     "data": {
      "text/plain": [
       "{1: [0, 1, 5], 2: [2, 4], 3: [3]}"
      ]
     },
     "execution_count": 2,
     "metadata": {},
     "output_type": "execute_result"
    }
   ],
   "source": [
    " enumere([1, 1, 2, 3, 2, 1])"
   ]
  },
  {
   "attachments": {},
   "cell_type": "markdown",
   "metadata": {},
   "source": [
    "## Exercice 2 :"
   ]
  },
  {
   "cell_type": "code",
   "execution_count": 5,
   "metadata": {},
   "outputs": [],
   "source": [
    "class Arbre:\n",
    "    def __init__(self, etiquette):\n",
    "        self.v = etiquette\n",
    "        self.fg = None\n",
    "        self.fd = None\n",
    "    def parcours(arbre, liste):\n",
    "        if arbre != None:\n",
    "            parcours(arbre.fg, liste)\n",
    "            liste.append(arbre.v)\n",
    "            parcours(arbre.fd, liste)\n",
    "        return liste"
   ]
  },
  {
   "cell_type": "code",
   "execution_count": 3,
   "metadata": {},
   "outputs": [],
   "source": [
    "def insere(arbre, cle):\n",
    "    \"\"\" arbre est une instance de la classe Arbre qui implémente\n",
    "    un arbre binaire de recherche.\n",
    "    \"\"\"\n",
    "    if cle < arbre.v:\n",
    "        if arbre.fg != None:\n",
    "            insere(arbre.fg, cle)\n",
    "        else:\n",
    "            arbre.fg = Arbre(cle)\n",
    "    else:\n",
    "        if arbre.fd != None:\n",
    "            insere(arbre.fd, cle)\n",
    "        else:\n",
    "            arbre.fd = Arbre(cle)"
   ]
  },
  {
   "cell_type": "code",
   "execution_count": null,
   "metadata": {},
   "outputs": [],
   "source": []
  }
 ],
 "metadata": {
  "kernelspec": {
   "display_name": "Python 3",
   "language": "python",
   "name": "python3"
  },
  "language_info": {
   "codemirror_mode": {
    "name": "ipython",
    "version": 3
   },
   "file_extension": ".py",
   "mimetype": "text/x-python",
   "name": "python",
   "nbconvert_exporter": "python",
   "pygments_lexer": "ipython3",
   "version": "3.8.16"
  },
  "orig_nbformat": 4,
  "vscode": {
   "interpreter": {
    "hash": "9ac03a0a6051494cc606d484d27d20fce22fb7b4d169f583271e11d5ba46a56e"
   }
  }
 },
 "nbformat": 4,
 "nbformat_minor": 2
}
