{
 "cells": [
  {
   "attachments": {},
   "cell_type": "markdown",
   "metadata": {},
   "source": [
    "# Sujet 25 :"
   ]
  },
  {
   "attachments": {},
   "cell_type": "markdown",
   "metadata": {},
   "source": [
    "## Exercice 1 :"
   ]
  },
  {
   "cell_type": "code",
   "execution_count": null,
   "metadata": {},
   "outputs": [],
   "source": [
    "def enumere(l:list):\n",
    "    d = {}\n",
    "    for i in range(len(l)):\n",
    "        if \n",
    "\n"
   ]
  },
  {
   "attachments": {},
   "cell_type": "markdown",
   "metadata": {},
   "source": [
    "## Exercice 2 :"
   ]
  },
  {
   "cell_type": "code",
   "execution_count": null,
   "metadata": {},
   "outputs": [],
   "source": [
    "class Arbre:\n",
    " def __init__(self, etiquette):\n",
    " self.v = etiquette\n",
    " self.fg = None\n",
    " self.fd = None\n",
    "def parcours(arbre, liste):\n",
    " if arbre != None:\n",
    " parcours(arbre.fg, liste)\n",
    " liste.append(arbre.v)\n",
    " parcours(arbre.fd, liste)\n",
    " return liste"
   ]
  },
  {
   "cell_type": "code",
   "execution_count": null,
   "metadata": {},
   "outputs": [],
   "source": [
    "def insere(arbre, cle):\n",
    "    \"\"\" arbre est une instance de la classe Arbre qui implémente\n",
    "    un arbre binaire de recherche.\n",
    "    \"\"\"\n",
    "    if ...:\n",
    "        if ...:\n",
    "            insere(arbre.fg, cle)\n",
    "        else:\n",
    "            arbre.fg = Arbre(cle)\n",
    "    else:\n",
    "        if ...:\n",
    "            insere(arbre.fd, cle)\n",
    "        else:\n",
    "            arbre.fd = Arbre(cle)"
   ]
  }
 ],
 "metadata": {
  "language_info": {
   "name": "python"
  },
  "orig_nbformat": 4
 },
 "nbformat": 4,
 "nbformat_minor": 2
}
