{
 "cells": [
  {
   "attachments": {},
   "cell_type": "markdown",
   "metadata": {},
   "source": [
    "# Sujet 19"
   ]
  },
  {
   "cell_type": "code",
   "execution_count": 7,
   "metadata": {},
   "outputs": [],
   "source": [
    "# Exercice 1 :\n",
    "def recherche(tab, n):\n",
    "    ''' Fonction qui prend en entrée un tableau de type list et qui effectue une recherche dichomique du nombre entier n de type int\n",
    "    La fonction doit renvoyer un indice correspondant au nombre cherché SI il apparait dans la liste. \n",
    "    Si il n'apparait pas, la fonction renvoie -1\n",
    "    '''\n",
    "    indice_debut = 0\n",
    "    indice_fin = len(tab) - 1\n",
    "    while indice_debut <= indice_fin:\n",
    "        indice_milieu = (indice_debut + indice_fin ) // 2\n",
    "        if tab[indice_milieu] == n:\n",
    "            return indice_milieu\n",
    "        elif tab[indice_milieu] < n:\n",
    "            indice_debut = indice_milieu + 1\n",
    "        else:\n",
    "            indice_fin = indice_milieu - 1\n",
    "            return -1"
   ]
  },
  {
   "cell_type": "code",
   "execution_count": 9,
   "metadata": {},
   "outputs": [
    {
     "data": {
      "text/plain": [
       "3"
      ]
     },
     "execution_count": 9,
     "metadata": {},
     "output_type": "execute_result"
    }
   ],
   "source": [
    "recherche([2, 3, 4, 5, 6], 5)"
   ]
  },
  {
   "cell_type": "code",
   "execution_count": 8,
   "metadata": {},
   "outputs": [
    {
     "data": {
      "text/plain": [
       "-1"
      ]
     },
     "execution_count": 8,
     "metadata": {},
     "output_type": "execute_result"
    }
   ],
   "source": [
    "recherche([2, 3, 4, 6, 7], 5)"
   ]
  },
  {
   "cell_type": "code",
   "execution_count": null,
   "metadata": {},
   "outputs": [],
   "source": [
    "# Exercice 2 : \n",
    "ALPHABET = 'ABCDEFGHIJKLMNOPQRSTUVWXYZ'\n",
    "def position_alphabet(lettre):\n",
    " return ord(lettre) - ord('A')\n",
    "def cesar(message, decalage):\n",
    " resultat = ''\n",
    " for ... in message:\n",
    " if 'A' <= c and c <= 'Z':\n",
    " indice = ( ... ) % 26\n",
    " resultat = resultat + ALPHABET[indice]\n",
    " else:\n",
    " resultat = ...\n",
    " return resultat\n"
   ]
  }
 ],
 "metadata": {
  "kernelspec": {
   "display_name": "Python 3",
   "language": "python",
   "name": "python3"
  },
  "language_info": {
   "codemirror_mode": {
    "name": "ipython",
    "version": 3
   },
   "file_extension": ".py",
   "mimetype": "text/x-python",
   "name": "python",
   "nbconvert_exporter": "python",
   "pygments_lexer": "ipython3",
   "version": "3.8.13"
  },
  "orig_nbformat": 4,
  "vscode": {
   "interpreter": {
    "hash": "9ac03a0a6051494cc606d484d27d20fce22fb7b4d169f583271e11d5ba46a56e"
   }
  }
 },
 "nbformat": 4,
 "nbformat_minor": 2
}
