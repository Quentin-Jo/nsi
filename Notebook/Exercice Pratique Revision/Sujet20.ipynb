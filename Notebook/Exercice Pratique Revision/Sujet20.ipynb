{
 "cells": [
  {
   "attachments": {},
   "cell_type": "markdown",
   "metadata": {},
   "source": [
    "# Sujet 20"
   ]
  },
  {
   "cell_type": "code",
   "execution_count": 3,
   "metadata": {},
   "outputs": [],
   "source": [
    "def ajoute_dictionnaires(d1, d2):\n",
    "    d = {}\n",
    "    for i in d1:\n",
    "        if i in d2:\n",
    "            d[i] = d1[i] + d2[i]\n",
    "        else:\n",
    "            d[i] = d1[i]\n",
    "    for i in d2:\n",
    "        if i not in d:\n",
    "            d[i] = d2[i]\n",
    "    return d"
   ]
  },
  {
   "cell_type": "code",
   "execution_count": 4,
   "metadata": {},
   "outputs": [
    {
     "data": {
      "text/plain": [
       "{1: 5, 2: 16, 3: 11}"
      ]
     },
     "execution_count": 4,
     "metadata": {},
     "output_type": "execute_result"
    }
   ],
   "source": [
    "ajoute_dictionnaires({1: 5, 2: 7}, {2: 9, 3: 11})"
   ]
  },
  {
   "cell_type": "code",
   "execution_count": 1,
   "metadata": {},
   "outputs": [],
   "source": [
    "from random import randint\n",
    "# On importe le module random avec la fonction randint\n",
    "def nbre_coups():\n",
    "    '''\n",
    "    Fonction qui renvoie le nombre de lancers aléatoires\n",
    "    nécessaires pour terminer le jeu.\n",
    "    '''\n",
    "    n = 0\n",
    "    cases_vues = [0]\n",
    "    case_en_cours = 0\n",
    "    nbre_cases = 12\n",
    "    while len(cases_vues) < nbre_cases:\n",
    "        x = randint(1, 6)\n",
    "        case_en_cours = (case_en_cours + x ) % nbre_cases\n",
    "        if case_en_cours not in cases_vues:\n",
    "            cases_vues.append(case_en_cours)\n",
    "        n = n + 1\n",
    "    return n"
   ]
  },
  {
   "cell_type": "code",
   "execution_count": 4,
   "metadata": {},
   "outputs": [
    {
     "data": {
      "text/plain": [
       "26"
      ]
     },
     "execution_count": 4,
     "metadata": {},
     "output_type": "execute_result"
    }
   ],
   "source": [
    "nbre_coups()"
   ]
  },
  {
   "cell_type": "code",
   "execution_count": null,
   "metadata": {},
   "outputs": [],
   "source": []
  }
 ],
 "metadata": {
  "kernelspec": {
   "display_name": "Python 3",
   "language": "python",
   "name": "python3"
  },
  "language_info": {
   "codemirror_mode": {
    "name": "ipython",
    "version": 3
   },
   "file_extension": ".py",
   "mimetype": "text/x-python",
   "name": "python",
   "nbconvert_exporter": "python",
   "pygments_lexer": "ipython3",
   "version": "3.8.16"
  },
  "orig_nbformat": 4,
  "vscode": {
   "interpreter": {
    "hash": "9ac03a0a6051494cc606d484d27d20fce22fb7b4d169f583271e11d5ba46a56e"
   }
  }
 },
 "nbformat": 4,
 "nbformat_minor": 2
}
