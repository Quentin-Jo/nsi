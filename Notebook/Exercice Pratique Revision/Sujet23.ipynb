{
 "cells": [
  {
   "attachments": {},
   "cell_type": "markdown",
   "metadata": {},
   "source": [
    "# Sujet 23 :"
   ]
  },
  {
   "attachments": {},
   "cell_type": "markdown",
   "metadata": {},
   "source": [
    "## Exercice 1 :"
   ]
  },
  {
   "cell_type": "code",
   "execution_count": 1,
   "metadata": {},
   "outputs": [],
   "source": [
    "def selection_enclos(table_animaux:dict, num_enclos:int):\n",
    "    '''\n",
    "    Fonction qui renvoie une table qui contient les enrengistrements de table_animaux\n",
    "    dont l'attribut 'enclos' est num_enclos\n",
    "    '''\n",
    "    tab = []\n",
    "    for i in table_animaux:\n",
    "        if i['enclos'] == num_enclos:\n",
    "            tab.append(i)\n",
    "    return tab"
   ]
  },
  {
   "cell_type": "code",
   "execution_count": 3,
   "metadata": {},
   "outputs": [],
   "source": [
    "animaux = [ {'nom':'Medor', 'espece':'chien', 'age':5, 'enclos':2},\n",
    " {'nom':'Titine', 'espece':'chat', 'age':2, 'enclos':5},\n",
    " {'nom':'Tom', 'espece':'chat', 'age':7, 'enclos':4},\n",
    " {'nom':'Belle', 'espece':'chien', 'age':6, 'enclos':3},\n",
    " {'nom':'Mirza', 'espece':'chat', 'age':6, 'enclos':5}]\n"
   ]
  },
  {
   "cell_type": "code",
   "execution_count": 5,
   "metadata": {},
   "outputs": [
    {
     "data": {
      "text/plain": [
       "[{'nom': 'Medor', 'espece': 'chien', 'age': 5, 'enclos': 2}]"
      ]
     },
     "execution_count": 5,
     "metadata": {},
     "output_type": "execute_result"
    }
   ],
   "source": [
    " selection_enclos(animaux, 2)\n"
   ]
  },
  {
   "attachments": {},
   "cell_type": "markdown",
   "metadata": {},
   "source": [
    "## Exercice 2 :"
   ]
  },
  {
   "cell_type": "code",
   "execution_count": 7,
   "metadata": {},
   "outputs": [],
   "source": [
    "def trouver_intrus(tab, g, d):\n",
    "    '''Renvoie la valeur de l'intrus situé entre les indices g\n",
    "    et d dans la liste tab où :\n",
    "    tab vérifie les conditions de l'exercice,\n",
    "    g et d sont des multiples de 3.'''\n",
    "    if g == d:\n",
    "        return tab[g]\n",
    "    else:\n",
    "        nombre_de_triplets = (d - g) // 3\n",
    "        indice = g + 3 * (nombre_de_triplets // 2)\n",
    "    if tab[indice] == tab[indice + 1] :\n",
    "        return trouver_intrus(tab, indice + 3, d)\n",
    "    else:\n",
    "        return trouver_intrus(tab, g, indice)\n"
   ]
  },
  {
   "cell_type": "code",
   "execution_count": 8,
   "metadata": {},
   "outputs": [
    {
     "data": {
      "text/plain": [
       "7"
      ]
     },
     "execution_count": 8,
     "metadata": {},
     "output_type": "execute_result"
    }
   ],
   "source": [
    "trouver_intrus([3, 3, 3, 9, 9, 9, 1, 1, 1, 7, 2, 2, 2, 4,\n",
    "4, 4, 8, 8, 8, 5, 5, 5], 0, 21)"
   ]
  },
  {
   "cell_type": "code",
   "execution_count": null,
   "metadata": {},
   "outputs": [],
   "source": []
  }
 ],
 "metadata": {
  "kernelspec": {
   "display_name": "Python 3",
   "language": "python",
   "name": "python3"
  },
  "language_info": {
   "codemirror_mode": {
    "name": "ipython",
    "version": 3
   },
   "file_extension": ".py",
   "mimetype": "text/x-python",
   "name": "python",
   "nbconvert_exporter": "python",
   "pygments_lexer": "ipython3",
   "version": "3.8.16 (default, Jan 10 2023, 15:23:34) \n[GCC 9.4.0]"
  },
  "orig_nbformat": 4,
  "vscode": {
   "interpreter": {
    "hash": "9ac03a0a6051494cc606d484d27d20fce22fb7b4d169f583271e11d5ba46a56e"
   }
  }
 },
 "nbformat": 4,
 "nbformat_minor": 2
}
