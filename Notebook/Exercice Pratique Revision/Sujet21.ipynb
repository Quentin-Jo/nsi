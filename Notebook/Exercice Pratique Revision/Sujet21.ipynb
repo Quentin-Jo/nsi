{
 "cells": [
  {
   "attachments": {},
   "cell_type": "markdown",
   "metadata": {},
   "source": [
    "# Sujet 21 :"
   ]
  },
  {
   "attachments": {},
   "cell_type": "markdown",
   "metadata": {},
   "source": [
    "## Exercice 1 :"
   ]
  },
  {
   "cell_type": "code",
   "execution_count": 1,
   "metadata": {},
   "outputs": [],
   "source": [
    "def delta(tab:list):\n",
    "    '''\n",
    "    Fonction qui prend en entrée un tableau non vide et qui renvoie\n",
    "    un tableau contenant les valeurs entières compréssées avec la \n",
    "    technique de codage\n",
    "    '''\n",
    "    diff = [tab[0]]\n",
    "    for i in range(1, len(tab)):\n",
    "        diff.append(tab[i] - tab[i-1])\n",
    "    return diff"
   ]
  },
  {
   "cell_type": "code",
   "execution_count": 2,
   "metadata": {},
   "outputs": [
    {
     "data": {
      "text/plain": [
       "[1000, -200, 2, 198, 3]"
      ]
     },
     "execution_count": 2,
     "metadata": {},
     "output_type": "execute_result"
    }
   ],
   "source": [
    "delta([1000, 800, 802, 1000, 1003])"
   ]
  },
  {
   "attachments": {},
   "cell_type": "markdown",
   "metadata": {},
   "source": [
    "# Exercice 2 :"
   ]
  },
  {
   "cell_type": "code",
   "execution_count": 11,
   "metadata": {},
   "outputs": [
    {
     "ename": "IndentationError",
     "evalue": "expected an indented block (2188883811.py, line 11)",
     "output_type": "error",
     "traceback": [
      "\u001b[0;36m  Cell \u001b[0;32mIn[11], line 11\u001b[0;36m\u001b[0m\n\u001b[0;31m    '''\u001b[0m\n\u001b[0m    ^\u001b[0m\n\u001b[0;31mIndentationError\u001b[0m\u001b[0;31m:\u001b[0m expected an indented block\n"
     ]
    }
   ],
   "source": [
    "classe Noeud:\n",
    "    '''"
   ]
  },
  {
   "cell_type": "code",
   "execution_count": 10,
   "metadata": {},
   "outputs": [],
   "source": [
    "class Noeud:\n",
    "    '''\n",
    "    classe implémentant un noeud d'arbre binaire\n",
    "    '''\n",
    "    def __init__(self, g, v, d):\n",
    "        '''\n",
    "        un objet Noeud possède 3 attributs :\n",
    "        - gauche : le sous-arbre gauche,\n",
    "        - valeur : la valeur de l'étiquette,\n",
    "        - droit : le sous-arbre droit.\n",
    "        '''\n",
    "        self.gauche = g\n",
    "        self.valeur = v\n",
    "        self.droit = d\n",
    "\n",
    "    def __str__(self):\n",
    "        '''\n",
    "        renvoie la représentation du noeud en chaine de\n",
    "        caractèresb\n",
    "        '''\n",
    "        return str(self.valeur)\n",
    "\n",
    "    def est_une_feuille(self):\n",
    "        '''\n",
    "        renvoie True si et seulement si le noeud est une feuille\n",
    "        '''\n",
    "        return self.gauche is None and self.droit is None\n",
    "    def expression_infixe(e):\n",
    "        s = \"\"\n",
    "        if e.gauche is not None:\n",
    "            s = '(' + s + expression_infixe(e.gauche)\n",
    "        s = s + str(e.valeur)\n",
    "        if e.droit is not None:\n",
    "            s = s + expression_infixe(e.droit) + ')'\n",
    "        return s \n"
   ]
  },
  {
   "cell_type": "code",
   "execution_count": 13,
   "metadata": {},
   "outputs": [],
   "source": [
    "e = Noeud(Noeud(Noeud(None, 3, None),\n",
    " '*', Noeud(Noeud(None, 8, None), '+', Noeud(None, 7, None))),\n",
    " '-', Noeud(Noeud(None, 2, None), '+', Noeud(None, 1, None)))\n"
   ]
  },
  {
   "cell_type": "code",
   "execution_count": 14,
   "metadata": {},
   "outputs": [
    {
     "data": {
      "text/plain": [
       "'((*(+))-(+))'"
      ]
     },
     "execution_count": 14,
     "metadata": {},
     "output_type": "execute_result"
    }
   ],
   "source": [
    "expression_infixe(e)"
   ]
  },
  {
   "cell_type": "code",
   "execution_count": null,
   "metadata": {},
   "outputs": [],
   "source": []
  }
 ],
 "metadata": {
  "kernelspec": {
   "display_name": "Python 3",
   "language": "python",
   "name": "python3"
  },
  "language_info": {
   "codemirror_mode": {
    "name": "ipython",
    "version": 3
   },
   "file_extension": ".py",
   "mimetype": "text/x-python",
   "name": "python",
   "nbconvert_exporter": "python",
   "pygments_lexer": "ipython3",
   "version": "3.8.13 (default, Dec 30 2022, 16:12:50) \n[GCC 9.4.0]"
  },
  "orig_nbformat": 4,
  "vscode": {
   "interpreter": {
    "hash": "9ac03a0a6051494cc606d484d27d20fce22fb7b4d169f583271e11d5ba46a56e"
   }
  }
 },
 "nbformat": 4,
 "nbformat_minor": 2
}
