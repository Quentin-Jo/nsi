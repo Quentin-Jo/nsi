{
 "cells": [
  {
   "attachments": {},
   "cell_type": "markdown",
   "metadata": {},
   "source": [
    "# Sujet 24"
   ]
  },
  {
   "attachments": {},
   "cell_type": "markdown",
   "metadata": {},
   "source": [
    "# Exercice 1 :"
   ]
  },
  {
   "cell_type": "code",
   "execution_count": 1,
   "metadata": {},
   "outputs": [],
   "source": [
    "def nbr_occurences(chaine):\n",
    "    d = {}\n",
    "    for i in chaine:\n",
    "        if i in d:\n",
    "            d[i] = d[i] + 1\n",
    "        else:\n",
    "            d[i] = 1\n",
    "    return d"
   ]
  },
  {
   "attachments": {},
   "cell_type": "markdown",
   "metadata": {},
   "source": [
    "# Exercice 2 :"
   ]
  },
  {
   "cell_type": "code",
   "execution_count": 12,
   "metadata": {},
   "outputs": [],
   "source": [
    "def fusion(lst1, lst2):\n",
    "    n1 = len(lst1)\n",
    "    n2 = len(lst2)\n",
    "    lst12 = [0] * (n1 + n2)\n",
    "    i1 = 0\n",
    "    i2 = 0\n",
    "    i = 0\n",
    "    while i1 < n1 and i2 :\n",
    "        if lst1[i1] < lst2[i2]:\n",
    "            lst12[i] = lst1[i1]\n",
    "            i1 = i1 + 1\n",
    "        else:\n",
    "            lst12[i] = lst2[i2]\n",
    "            i2 = i2 + 1\n",
    "        i += 1\n",
    "    while i1 < n1:\n",
    "        lst12[i] = lst1[i1]\n",
    "        i1 = i1 + 1\n",
    "        i = i + 1\n",
    "        while i2 < n2:\n",
    "            lst12[i] = i2 + 1\n",
    "            i2 = i2 + 1\n",
    "            i = i + 1\n",
    "    return lst12"
   ]
  },
  {
   "cell_type": "code",
   "execution_count": 13,
   "metadata": {},
   "outputs": [
    {
     "data": {
      "text/plain": [
       "[1, 1, 2, 3, 4, 6, 10]"
      ]
     },
     "execution_count": 13,
     "metadata": {},
     "output_type": "execute_result"
    }
   ],
   "source": [
    " fusion([1, 6, 10], [0, 7, 8, 9])"
   ]
  },
  {
   "cell_type": "code",
   "execution_count": null,
   "metadata": {},
   "outputs": [],
   "source": []
  }
 ],
 "metadata": {
  "kernelspec": {
   "display_name": "Python 3",
   "language": "python",
   "name": "python3"
  },
  "language_info": {
   "codemirror_mode": {
    "name": "ipython",
    "version": 3
   },
   "file_extension": ".py",
   "mimetype": "text/x-python",
   "name": "python",
   "nbconvert_exporter": "python",
   "pygments_lexer": "ipython3",
   "version": "3.8.16 (default, Jan 10 2023, 15:23:34) \n[GCC 9.4.0]"
  },
  "orig_nbformat": 4,
  "vscode": {
   "interpreter": {
    "hash": "9ac03a0a6051494cc606d484d27d20fce22fb7b4d169f583271e11d5ba46a56e"
   }
  }
 },
 "nbformat": 4,
 "nbformat_minor": 2
}
