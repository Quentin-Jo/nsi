{
 "cells": [
  {
   "cell_type": "code",
   "execution_count": 1,
   "metadata": {},
   "outputs": [],
   "source": [
    "class ABR:\n",
    "    def __init__(self, g0, v0, d0):\n",
    "        self.gauche = g0\n",
    "        self.cle = v0\n",
    "        self.droit = d0\n",
    "    def __repr__(self):\n",
    "        return f\"({self.gauche}, {self.cle}, {self.droit})\"\n",
    "\n",
    "n0 = ABR(None, 0, None)\n",
    "n3 = ABR(None, 3, None)\n",
    "n2= ABR(None, 2, n3)\n",
    "abr1 = ABR(n0, 1, n2)\n",
    "\n",
    "def ajoute(cle, a):\n",
    "    if a is None:\n",
    "        return ABR(None, cle, None)\n",
    "    elif cle == a.cle:\n",
    "        return a\n",
    "    elif cle < a.cle:\n",
    "        return ABR(ajoute(cle, a.gauche), a.cle, a.droit)\n",
    "    else:\n",
    "        return ABR(a.gauche, a.cle, ajoute(cle, a.droit))\n",
    "    "
   ]
  },
  {
   "cell_type": "code",
   "execution_count": 2,
   "metadata": {},
   "outputs": [],
   "source": [
    "a = ajoute(4, abr1)"
   ]
  },
  {
   "cell_type": "code",
   "execution_count": 3,
   "metadata": {},
   "outputs": [
    {
     "data": {
      "text/plain": [
       "((None, 0, None), 1, (None, 2, (None, 3, (None, 4, None))))"
      ]
     },
     "execution_count": 3,
     "metadata": {},
     "output_type": "execute_result"
    }
   ],
   "source": [
    "a"
   ]
  },
  {
   "cell_type": "code",
   "execution_count": null,
   "metadata": {},
   "outputs": [],
   "source": []
  }
 ],
 "metadata": {
  "kernelspec": {
   "display_name": "Python 3",
   "language": "python",
   "name": "python3"
  },
  "language_info": {
   "codemirror_mode": {
    "name": "ipython",
    "version": 3
   },
   "file_extension": ".py",
   "mimetype": "text/x-python",
   "name": "python",
   "nbconvert_exporter": "python",
   "pygments_lexer": "ipython3",
   "version": "3.8.16"
  },
  "orig_nbformat": 4
 },
 "nbformat": 4,
 "nbformat_minor": 2
}
