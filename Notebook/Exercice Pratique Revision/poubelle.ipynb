{
 "cells": [
  {
   "cell_type": "code",
   "execution_count": 1,
   "metadata": {},
   "outputs": [
    {
     "data": {
      "text/plain": [
       "0.30000000000000004"
      ]
     },
     "execution_count": 1,
     "metadata": {},
     "output_type": "execute_result"
    }
   ],
   "source": [
    "0.1 + 0.2"
   ]
  },
  {
   "cell_type": "code",
   "execution_count": 3,
   "metadata": {},
   "outputs": [],
   "source": [
    "def ajout(f):\n",
    " couleurs = (\"bleu\", \"rouge\", \"jaune\", \"vert\")\n",
    " indice = randint(couleurs[0], couleurs[3] )\n",
    " enfiler(f, indice)\n",
    " return f"
   ]
  },
  {
   "cell_type": "code",
   "execution_count": 2,
   "metadata": {},
   "outputs": [],
   "source": [
    "def vider(f):\n",
    "    for i in vider:\n",
    "        f.pop()"
   ]
  },
  {
   "cell_type": "code",
   "execution_count": null,
   "metadata": {},
   "outputs": [],
   "source": [
    "def affich_seq(sequence):\n",
    "    stock = creer_file_vide()\n",
    "    ajout(sequence)\n",
    "    while not est_vide(sequence) :\n",
    "        c = randint(couleurs[i])\n",
    "        print(c)\n",
    "        time.sleep(0.5)\n",
    "        \n",
    "    while ... :\n",
    "        ...\n"
   ]
  },
  {
   "cell_type": "code",
   "execution_count": null,
   "metadata": {},
   "outputs": [],
   "source": [
    "def tour_de_jeu(sequence):\n",
    "    affiche_seq(sequence)\n",
    "    stock = creer_file_vide()\n",
    "    while not est_vide(sequence) :\n",
    "        c_joueur = saisie_joueur()\n",
    "        c_seq = \n",
    "        if c_joueur = c_seq:\n",
    "            enfiler(sequence, c_joueur)    \n",
    "        else:\n",
    "            vider(sequence)\n",
    "    \n",
    "        ZONE F\n"
   ]
  }
 ],
 "metadata": {
  "kernelspec": {
   "display_name": "Python 3",
   "language": "python",
   "name": "python3"
  },
  "language_info": {
   "codemirror_mode": {
    "name": "ipython",
    "version": 3
   },
   "file_extension": ".py",
   "mimetype": "text/x-python",
   "name": "python",
   "nbconvert_exporter": "python",
   "pygments_lexer": "ipython3",
   "version": "3.8.16"
  },
  "orig_nbformat": 4
 },
 "nbformat": 4,
 "nbformat_minor": 2
}
