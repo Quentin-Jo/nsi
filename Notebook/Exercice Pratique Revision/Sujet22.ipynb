{
 "cells": [
  {
   "attachments": {},
   "cell_type": "markdown",
   "metadata": {},
   "source": [
    "# Exercice 1 :"
   ]
  },
  {
   "cell_type": "code",
   "execution_count": 1,
   "metadata": {},
   "outputs": [],
   "source": [
    "def liste_puissances(a:int, n:int):\n",
    "    '''\n",
    "    Prend en entrée un nombre entier et un entier strictement positif n qui va renvoyer la liste des puissances de a n fois \n",
    "    Exemple : \n",
    "    liste_puissances(2,2)\n",
    "    [2, 4]\n",
    "    '''\n",
    "    tab = [a]\n",
    "    for i in range(2, n+1):\n",
    "        resultat = tab[-1]*a \n",
    "        tab.append(resultat)\n",
    "    return tab"
   ]
  },
  {
   "cell_type": "code",
   "execution_count": 3,
   "metadata": {},
   "outputs": [
    {
     "data": {
      "text/plain": [
       "[3, 9, 27, 81, 243]"
      ]
     },
     "execution_count": 3,
     "metadata": {},
     "output_type": "execute_result"
    }
   ],
   "source": [
    "liste_puissances(3, 5)\n"
   ]
  },
  {
   "cell_type": "code",
   "execution_count": 6,
   "metadata": {},
   "outputs": [],
   "source": [
    "def liste_puissances_borne(a:int, borne:int):\n",
    "    '''\n",
    "    Prend en entrée un nombre entier a supérieur ou égal à 2 et un entier borne qui va renvoyer la liste de ses puissances\n",
    "    à l'exception de 0, et qui est strictement inferieur à borne\n",
    "    Exemple :\n",
    "    liste_puissances_borne(5, 25)\n",
    "    [5] (On ajoute pas 25)\n",
    "    '''\n",
    "    if borne <= a:\n",
    "        return []\n",
    "    tab = [a]\n",
    "    i = True\n",
    "    while i:\n",
    "        resultat = tab[-1]*a\n",
    "        if resultat < borne:\n",
    "            tab.append(resultat)\n",
    "        else : \n",
    "            i = False\n",
    "    return tab"
   ]
  },
  {
   "attachments": {},
   "cell_type": "markdown",
   "metadata": {},
   "source": [
    ":star:"
   ]
  },
  {
   "cell_type": "code",
   "execution_count": 5,
   "metadata": {},
   "outputs": [
    {
     "data": {
      "text/plain": [
       "[2, 4, 8]"
      ]
     },
     "execution_count": 5,
     "metadata": {},
     "output_type": "execute_result"
    }
   ],
   "source": [
    "liste_puissances_borne(2, 16)"
   ]
  },
  {
   "attachments": {},
   "cell_type": "markdown",
   "metadata": {},
   "source": [
    "# Exercice 2 :"
   ]
  },
  {
   "cell_type": "code",
   "execution_count": 1,
   "metadata": {},
   "outputs": [],
   "source": [
    "dico = {\"A\": 1, \"B\": 2, \"C\": 3, \"D\": 4, \"E\": 5, \"F\": 6,\n",
    " \"G\": 7, \"H\": 8, \"I\": 9, \"J\": 10, \"K\": 11, \"L\": 12,\n",
    " \"M\": 13, \"N\": 14, \"O\": 15, \"P\": 16, \"Q\": 17,\n",
    " \"R\": 18, \"S\": 19, \"T\": 20, \"U\": 21, \"V\": 22,\n",
    " \"W\": 23, \"X\": 24, \"Y\": 25, \"Z\": 26}\n",
    "def est_parfait(mot) :\n",
    " # mot est une chaîne de caractères (en lettres majuscules)\n",
    "    code_concatene = \" \"\n",
    "    code_additionne = 0\n",
    "    for c in mot:\n",
    "        code_concatene = code_concatene + str(dico[c])\n",
    "        code_additionne = code_additionne + dico[c]\n",
    "    code_concatene = int(code_concatene)\n",
    "    if code_concatene % code_additionne == 0 :\n",
    "        mot_est_parfait = True\n",
    "    else : \n",
    "        mot_est_parfait = False\n",
    "    return code_additionne, code_concatene, mot_est_parfait"
   ]
  },
  {
   "cell_type": "code",
   "execution_count": 2,
   "metadata": {},
   "outputs": [
    {
     "data": {
      "text/plain": [
       "(50, 1612112, False)"
      ]
     },
     "execution_count": 2,
     "metadata": {},
     "output_type": "execute_result"
    }
   ],
   "source": [
    "est_parfait(\"PAUL\")"
   ]
  },
  {
   "cell_type": "code",
   "execution_count": null,
   "metadata": {},
   "outputs": [],
   "source": []
  }
 ],
 "metadata": {
  "kernelspec": {
   "display_name": "Python 3",
   "language": "python",
   "name": "python3"
  },
  "language_info": {
   "codemirror_mode": {
    "name": "ipython",
    "version": 3
   },
   "file_extension": ".py",
   "mimetype": "text/x-python",
   "name": "python",
   "nbconvert_exporter": "python",
   "pygments_lexer": "ipython3",
   "version": "3.8.16"
  },
  "orig_nbformat": 4,
  "vscode": {
   "interpreter": {
    "hash": "9ac03a0a6051494cc606d484d27d20fce22fb7b4d169f583271e11d5ba46a56e"
   }
  }
 },
 "nbformat": 4,
 "nbformat_minor": 2
}
