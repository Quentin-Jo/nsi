{
 "cells": [
  {
   "attachments": {},
   "cell_type": "markdown",
   "metadata": {},
   "source": [
    "# Exercice Bibliothèque"
   ]
  },
  {
   "attachments": {},
   "cell_type": "markdown",
   "metadata": {},
   "source": [
    "## 1. Quelles sont les anomalies dans le schéma précédent ?\n",
    "- a. Il n'y a pas de types précisés."
   ]
  },
  {
   "attachments": {},
   "cell_type": "markdown",
   "metadata": {},
   "source": [
    "## 2. Clés et contraintes"
   ]
  },
  {
   "attachments": {},
   "cell_type": "markdown",
   "metadata": {},
   "source": [
    "- a. Abonne_ID\n",
    "- b. Cela sécurise l'ajout de données dans la table avec des contraintes.\n",
    "- c. Cela ajoute une contrainte pour définir une nouvelle clé étrangère\n",
    "- d. Cela ne servirait à rien."
   ]
  },
  {
   "attachments": {},
   "cell_type": "markdown",
   "metadata": {},
   "source": [
    "## 3. Exprimer les requêtes suivantes en SQL."
   ]
  },
  {
   "attachments": {},
   "cell_type": "markdown",
   "metadata": {},
   "source": [
    "- a. Quels sont les noms et prénoms des abonnés habitant Bayonne ?\n",
    "- SELECT Nom,Prenom FROM Abonne WHERE Ville = 'Bayonne'\n",
    "- b. Quels sont les noms et prénoms des abonnés habitant dans les Pyrénées Atlantiques ?\n",
    "- SELECT Nom,Prenom FROM Abonne WHERE CodePostal LIKE '64%%%'\n",
    "- c. Quels sont les identifiants des abonnés ayant rendu un livre en retard ?\n",
    "- SELECT Abonne_ID FROM Emprunt WHERE DateRetourReel > DateRetourPrevu\n",
    "- d. Quels sont les noms des abonnés ayant rendu un livre en retard ?\n",
    "- SELECT Nom FROM Abonne INNER JOIN Emprunt WHERE Emprunt.DateRetourPrevu > Emprunt.DateRetourReel\n",
    "- e. Quels sont les titres des livres actuellement empruntés ?\n",
    "- SELECT Titre FROM Emprunt WHERE DateEmprunt IS NOT NULL\n",
    "- f. Quels sont les noms des gens ayant emprunté le livre Papillon ?\n",
    "- g. Quels sont les abonnés n’ayant jamais emprunté de livres ?\n",
    "- SELECT Abonne_ID FROM Abonne WHERE DateEmprunt = NULL\n",
    "- h. Quelles sont les noms des personnes n'ayant jamais rendu de livre en retard ?\n",
    "- SELECT Nom FROM Abonne WHERE DateRetourPrevu >= DateRetourReel\n",
    "- i. Quelles sont les noms des personnes ayant toujours rendu en retard les livres qu'elles ont empruntés ?\n",
    "- SELECT Nom FROM Abonne WHERE DateRetourReel > DateRetourPrevu\n",
    "- j. Quels sont les noms et prénoms des bayonnais ayant rendu un livre en retard ?\n",
    "- SELECT Nom, Prenom FROM Abonne WHERE ville = 'Bayonne' AND DateRetourReel > DateRetourPrevu\n",
    "- k. Quel est l’abonné le plus âgé ?\n",
    "- SELECT Nom, MIN(DateNaissance) FROM Abonne \n",
    "- l. Quel est le retard maximal des abonnés ayant rendu un livre en retard ? \n",
    "- SELECT MAX(DateRetourReel) FROM Abonne WHERE DateRetourReel > DateRetourPrevu\n",
    "- m. Quel est l’identifiant de l’abonné ayant rendu un livre avec le plus de retard ? \n",
    "- SELECT Abonne_ID, MAX(DateRetourReel) FROM Abonne WHERE DateRetourReel > DateRetourPrevu\n",
    "- n. Quel est le retard moyen ?\n",
    "- SELECT AVG(DateRetourReel) FROM Abonne WHERE DateRetourReel > DateRetourPrevu\n",
    "-o. Quels sont les noms des abonnés commençant par les lettres A à H ?\n",
    "- SELECT noms FROM Abonne WHERE noms LIKE 'A%' OR 'H%'\n",
    "- p. Combien de fois a été emprunté le livre Papillon ?\n",
    "- SELECT COUNT(*) FROM Emprunt INNER JOIN Livre WHERE Livre.Tire = 'Papillon'\n"
   ]
  },
  {
   "attachments": {},
   "cell_type": "markdown",
   "metadata": {},
   "source": [
    "## 4. Modification de la table\n",
    "- a. Quelle requête permet de rajouter l’emprunt du livre d’identifiant 4252 par l’abonné d’identifiant 803 le \n",
    "2 novembre 2020 sachant que les emprunts sont pour une durée de trois semaines ?\n",
    "\n",
    "UPDATE Emprunt\n",
    "WHERE Abonne_ID = 803, Livre_ID = 4252, DateEmprunt = '2022-10-02'\n",
    "\n",
    "- b. Quelle requête permet de mettre à jour la nouvelle adresse de l’abonné Jean DUPONT qui va habiter 11 \n",
    "rue Lormand, 64100 Bayonne ?\n",
    "\n",
    "UPDATE Abonne\n",
    "SET Adresse = '11 rue Lormand', CodePostal = 64100, Ville = 'Bayonne'\n",
    "WHERE Nom = 'DUPONT' and Prenom = 'Jean'\n",
    "\n",
    "L’abonné Jon ETCHEGARAY quitte la bibliothèque.\n",
    "\n",
    "- c. Quelle requête permet de vérifier qu’il n’a pas d’emprunt en cours ?\n",
    "SELECT * FROM Emprunt WHERE DateEmprunt IS NULL\n",
    "- d. Quelle requête permet d’effacer ses emprunts ?\n",
    "DELETE FROM Emprunt\n",
    "WHERE Nom = 'ETCHEGARAY', Prenom = 'Jon' \n",
    "- e. Quelle requête permet de l’effacer de la table Abonne ?\n",
    "DELETE FROM Abonne\n",
    "WHERE Nom = 'ETCHEGARAY' and Prenom = 'Jon'"
   ]
  },
  {
   "attachments": {},
   "cell_type": "markdown",
   "metadata": {},
   "source": [
    "## 5. Recherche d’anomalies\n",
    "- a. Quelle requête permet de renvoyer la liste des emprunts dont l’abonné ou le livre n’est pas enregistré \n",
    "dans la base de données ?\n",
    "- SELECT * FROM Emprunt where Abonne_ID IS NOT NULL and Livre_ID IS NOT NULL "
   ]
  },
  {
   "cell_type": "markdown",
   "metadata": {},
   "source": []
  }
 ],
 "metadata": {
  "kernelspec": {
   "display_name": "Python 3",
   "language": "python",
   "name": "python3"
  },
  "language_info": {
   "name": "python",
   "version": "3.8.13 (default, Dec 30 2022, 16:12:50) \n[GCC 9.4.0]"
  },
  "orig_nbformat": 4,
  "vscode": {
   "interpreter": {
    "hash": "9ac03a0a6051494cc606d484d27d20fce22fb7b4d169f583271e11d5ba46a56e"
   }
  }
 },
 "nbformat": 4,
 "nbformat_minor": 2
}
