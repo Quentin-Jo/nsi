{
 "cells": [
  {
   "attachments": {},
   "cell_type": "markdown",
   "metadata": {},
   "source": [
    "# Notebook de révisions sur les dictionnaires :"
   ]
  },
  {
   "attachments": {},
   "cell_type": "markdown",
   "metadata": {},
   "source": [
    "Les dictionnaires sont des types **construits** de valeurs. Les éléments d'un dictionnaire sont ordonnés et sont identifiés par une **clé**. Pour définir un dictionnaire, on utilise des **acolades**."
   ]
  },
  {
   "attachments": {},
   "cell_type": "markdown",
   "metadata": {},
   "source": [
    "## Comment accéder à des données dans des dictionnaires :"
   ]
  },
  {
   "cell_type": "code",
   "execution_count": 1,
   "metadata": {},
   "outputs": [],
   "source": [
    "crayon = {'prix' : 2, 'couleur' : 'noir', 'stock' : 40}"
   ]
  },
  {
   "attachments": {},
   "cell_type": "markdown",
   "metadata": {},
   "source": [
    "Pour accéder à des données dans un dictionnaire, il faut d'abord commencer par le nom du dictionnnaire.\n",
    "\n",
    "Ici nous avons **crayon**.\n",
    "\n",
    "Après cela, nous allons mettre entre crochet la valeur que nous souhaitons avoir, par exemple la couleur :"
   ]
  },
  {
   "cell_type": "code",
   "execution_count": 2,
   "metadata": {},
   "outputs": [
    {
     "data": {
      "text/plain": [
       "'noir'"
      ]
     },
     "execution_count": 2,
     "metadata": {},
     "output_type": "execute_result"
    }
   ],
   "source": [
    "crayon['couleur']"
   ]
  },
  {
   "attachments": {},
   "cell_type": "markdown",
   "metadata": {},
   "source": [
    "Il est aussi possible de **modifier** les valeurs d'un dictionnaire :"
   ]
  },
  {
   "cell_type": "code",
   "execution_count": 3,
   "metadata": {},
   "outputs": [],
   "source": [
    "crayon['couleur'] = \"rouge\""
   ]
  },
  {
   "attachments": {},
   "cell_type": "markdown",
   "metadata": {},
   "source": [
    "Si on regarde la valeur à nouveau :"
   ]
  },
  {
   "cell_type": "code",
   "execution_count": 4,
   "metadata": {},
   "outputs": [
    {
     "data": {
      "text/plain": [
       "'rouge'"
      ]
     },
     "execution_count": 4,
     "metadata": {},
     "output_type": "execute_result"
    }
   ],
   "source": [
    "crayon['couleur']"
   ]
  },
  {
   "attachments": {},
   "cell_type": "markdown",
   "metadata": {},
   "source": [
    "### Pour fusionner des dictionnaires simplement, il existe des commandes :"
   ]
  },
  {
   "cell_type": "code",
   "execution_count": 5,
   "metadata": {},
   "outputs": [
    {
     "data": {
      "text/plain": [
       "{'a': 5, 'b': 15, 'c': 25, 'd': 3, 'e': 9, 'f': 18}"
      ]
     },
     "execution_count": 5,
     "metadata": {},
     "output_type": "execute_result"
    }
   ],
   "source": [
    "dictionnaire1 = {'a' : 5, 'b' : 15, 'c': 25}\n",
    "dictionnaire2 = {'d' : 3, 'e' : 9, 'f' : 18}\n",
    "# En utilisant \"**\", il est possible de fusionner les deux dictionnaires\n",
    "fusion = {**dictionnaire1, **dictionnaire2}\n",
    "fusion"
   ]
  },
  {
   "attachments": {},
   "cell_type": "markdown",
   "metadata": {},
   "source": [
    "##### Exercice Jointure Dictionnaires :"
   ]
  },
  {
   "cell_type": "code",
   "execution_count": 6,
   "metadata": {},
   "outputs": [],
   "source": [
    "def jointure(emails_ids, ids_pseudos):\n",
    "    fusion = {}\n",
    "    for i in emails_ids:\n",
    "        fusion[i] = ids_pseudos[emails_ids[i]]\n",
    "    return fusion "
   ]
  },
  {
   "cell_type": "code",
   "execution_count": 37,
   "metadata": {},
   "outputs": [
    {
     "data": {
      "text/plain": [
       "{'alice@fake.com': 'alice',\n",
       " 'bob@bidon.fr': 'B0b',\n",
       " 'chris@false.uk': 'ChristoF'}"
      ]
     },
     "execution_count": 37,
     "metadata": {},
     "output_type": "execute_result"
    }
   ],
   "source": [
    "jointure(emails_ids, ids_pseudos)\n"
   ]
  },
  {
   "attachments": {},
   "cell_type": "markdown",
   "metadata": {},
   "source": [
    "``` \n",
    "{\n",
    "    \"alice@fake.com\": \"alice\",\n",
    "    \"bob@bidon.fr\": \"B0b\",\n",
    "    \"chris@false.uk\": \"ChristoF\",\n",
    "}\n",
    "```"
   ]
  },
  {
   "attachments": {},
   "cell_type": "markdown",
   "metadata": {},
   "source": [
    "## Exercice 1 du Sujet 8 :"
   ]
  },
  {
   "cell_type": "code",
   "execution_count": 2,
   "metadata": {},
   "outputs": [],
   "source": [
    "def max_dico(dico:dict)->tuple:\n",
    "    '''\n",
    "    • Définition :\n",
    "    - Prend en entrée un dictionnaire d'utilisateurs avec leur nombre de like et renvoie un tuple de l'utilisateur ayant le maxiumum de like\n",
    "    • Précondition :\n",
    "    - dico : un dictionnaire non vide dont les clés sont des chaînes de caractères et les valeurs associées sont des entiers positifs ou nuls\n",
    "    • Postcondition :\n",
    "    - Un tuple de la clé du dictionnaire associée à la valeur maximale ainsi que cette dernière\n",
    "    • Exemple :\n",
    "    - max_dico({'Bob': 102, 'Ada': 201, 'Alice': 103, 'Tim': 50})\n",
    "    > ('Ada', 201)\n",
    "    '''\n",
    "    like_max = 0\n",
    "    for i in dico:\n",
    "        if dico[i] >= like_max:\n",
    "            like_max = dico[i]\n",
    "            utilisateur = i\n",
    "    return (utilisateur, like_max)"
   ]
  },
  {
   "attachments": {},
   "cell_type": "markdown",
   "metadata": {},
   "source": [
    "Ici, nous avons une fonction qui va renvoyer le **plus grand** nombre de likes dans le *dictionnaire*. C'est une lecture d'éléments dans ce dictionnaire qui va renvoyer un tuple.\n",
    "\n",
    "**Exemple : max_dico({'Bob': 102, 'Ada': 201, 'Alice': 103, 'Tim': 50})**\n",
    "- Renvoie :  ('Ada', 201)"
   ]
  },
  {
   "attachments": {},
   "cell_type": "markdown",
   "metadata": {},
   "source": [
    "## Exercice 2 du Sujet 16 :"
   ]
  },
  {
   "cell_type": "code",
   "execution_count": 1,
   "metadata": {},
   "outputs": [],
   "source": [
    "def moyenne(nom, dico_result):\n",
    "    if nom in dico_result:\n",
    "        notes = dico_result[nom]\n",
    "        total_points = 0\n",
    "        total_coefficients = 0\n",
    "        for valeurs in notes.values():\n",
    "            note, coefficient = valeurs\n",
    "            total_points = total_points + note * coefficient\n",
    "            total_coefficients = total_coefficients + coefficient\n",
    "        return round( total_points / total_coefficients, 1 )\n",
    "    else:\n",
    "        return -1"
   ]
  },
  {
   "cell_type": "code",
   "execution_count": null,
   "metadata": {},
   "outputs": [],
   "source": []
  },
  {
   "attachments": {},
   "cell_type": "markdown",
   "metadata": {},
   "source": [
    "## Exercice 1 du Sujet 23 :"
   ]
  },
  {
   "cell_type": "code",
   "execution_count": 3,
   "metadata": {},
   "outputs": [],
   "source": [
    "def selection_enclos(table_animaux:dict, num_enclos:int):\n",
    "    '''\n",
    "    Fonction qui renvoie une table qui contient les enrengistrements de table_animaux\n",
    "    dont l'attribut 'enclos' est num_enclos\n",
    "    '''\n",
    "    tab = []\n",
    "    for i in table_animaux:\n",
    "        if i['enclos'] == num_enclos:\n",
    "            tab.append(i)\n",
    "    return tab"
   ]
  },
  {
   "cell_type": "code",
   "execution_count": null,
   "metadata": {},
   "outputs": [],
   "source": []
  }
 ],
 "metadata": {
  "kernelspec": {
   "display_name": "Python 3",
   "language": "python",
   "name": "python3"
  },
  "language_info": {
   "codemirror_mode": {
    "name": "ipython",
    "version": 3
   },
   "file_extension": ".py",
   "mimetype": "text/x-python",
   "name": "python",
   "nbconvert_exporter": "python",
   "pygments_lexer": "ipython3",
   "version": "3.8.16"
  },
  "orig_nbformat": 4,
  "vscode": {
   "interpreter": {
    "hash": "9ac03a0a6051494cc606d484d27d20fce22fb7b4d169f583271e11d5ba46a56e"
   }
  }
 },
 "nbformat": 4,
 "nbformat_minor": 2
}
