{
 "cells": [
  {
   "attachments": {},
   "cell_type": "markdown",
   "metadata": {},
   "source": [
    "# Notebook de révisions sur les dictionnaires :"
   ]
  },
  {
   "attachments": {},
   "cell_type": "markdown",
   "metadata": {},
   "source": [
    "Les dictionnaires sont des types **construits** de valeurs. Les éléments d'un dictionnaire sont ordonnés et sont identifiés par une **clé**. Pour définir un dictionnaire, on utilise des **acolades**."
   ]
  },
  {
   "attachments": {},
   "cell_type": "markdown",
   "metadata": {},
   "source": [
    "## Comment accéder à des données dans des dictionnaires :"
   ]
  },
  {
   "cell_type": "code",
   "execution_count": 3,
   "metadata": {},
   "outputs": [],
   "source": [
    "crayon = {'prix' : 2, 'couleur' : 'noir', 'stock' : 40}"
   ]
  },
  {
   "attachments": {},
   "cell_type": "markdown",
   "metadata": {},
   "source": [
    "Pour accéder à des données dans un dictionnaire, il faut d'abord commencer par le nom du dictionnnaire.\n",
    "\n",
    "Ici nous avons **crayon**.\n",
    "\n",
    "Après cela, nous allons mettre entre crochet la valeur que nous souhaitons avoir, par exemple la couleur :"
   ]
  },
  {
   "cell_type": "code",
   "execution_count": 4,
   "metadata": {},
   "outputs": [
    {
     "data": {
      "text/plain": [
       "'noir'"
      ]
     },
     "execution_count": 4,
     "metadata": {},
     "output_type": "execute_result"
    }
   ],
   "source": [
    "crayon['couleur']"
   ]
  },
  {
   "attachments": {},
   "cell_type": "markdown",
   "metadata": {},
   "source": [
    "Il est aussi possible de **modifier** les valeurs d'un dictionnaire :"
   ]
  },
  {
   "cell_type": "code",
   "execution_count": 5,
   "metadata": {},
   "outputs": [],
   "source": [
    "crayon['couleur'] = \"rouge\""
   ]
  },
  {
   "attachments": {},
   "cell_type": "markdown",
   "metadata": {},
   "source": [
    "Si on regarde la valeur à nouveau :"
   ]
  },
  {
   "cell_type": "code",
   "execution_count": 6,
   "metadata": {},
   "outputs": [
    {
     "data": {
      "text/plain": [
       "'rouge'"
      ]
     },
     "execution_count": 6,
     "metadata": {},
     "output_type": "execute_result"
    }
   ],
   "source": [
    "crayon['couleur']"
   ]
  },
  {
   "attachments": {},
   "cell_type": "markdown",
   "metadata": {},
   "source": [
    "### Pour fusionner des dictionnaires simplement, il existe des commandes :"
   ]
  },
  {
   "cell_type": "code",
   "execution_count": 6,
   "metadata": {},
   "outputs": [
    {
     "data": {
      "text/plain": [
       "{'a': 5, 'b': 15, 'c': 25, 'd': 3, 'e': 9, 'f': 18}"
      ]
     },
     "execution_count": 6,
     "metadata": {},
     "output_type": "execute_result"
    }
   ],
   "source": [
    "dictionnaire1 = {'a' : 5, 'b' : 15, 'c': 25}\n",
    "dictionnaire2 = {'d' : 3, 'e' : 9, 'f' : 18}\n",
    "# En utilisant \"**\", il est possible de fusionner les deux dictionnaires\n",
    "fusion = {**dictionnaire1, **dictionnaire2}\n",
    "fusion"
   ]
  },
  {
   "attachments": {},
   "cell_type": "markdown",
   "metadata": {},
   "source": [
    "##### Exercice Jointure Dictionnaires :"
   ]
  },
  {
   "cell_type": "code",
   "execution_count": 10,
   "metadata": {},
   "outputs": [],
   "source": [
    "emails_ids = {\"alice@fake.com\": 1, \"bob@bidon.fr\": 2, \"chris@false.uk\": 3}\n",
    "ids_pseudos = {1: \"alice\", 2: \"B0b\", 3: \"ChristoF\"}"
   ]
  },
  {
   "cell_type": "code",
   "execution_count": 11,
   "metadata": {},
   "outputs": [
    {
     "data": {
      "text/plain": [
       "'alice'"
      ]
     },
     "execution_count": 11,
     "metadata": {},
     "output_type": "execute_result"
    }
   ],
   "source": [
    "ids_pseudos[1]"
   ]
  },
  {
   "cell_type": "code",
   "execution_count": 15,
   "metadata": {},
   "outputs": [
    {
     "data": {
      "text/plain": [
       "1"
      ]
     },
     "execution_count": 15,
     "metadata": {},
     "output_type": "execute_result"
    }
   ],
   "source": [
    "emails_ids[\"alice@fake.com\"]"
   ]
  },
  {
   "cell_type": "code",
   "execution_count": 18,
   "metadata": {},
   "outputs": [],
   "source": [
    "toto = {}"
   ]
  },
  {
   "cell_type": "code",
   "execution_count": 19,
   "metadata": {},
   "outputs": [],
   "source": [
    "toto[\"alice@fake.com\"] = ids_pseudos[emails_ids[\"alice@fake.com\"]]\n"
   ]
  },
  {
   "cell_type": "code",
   "execution_count": 21,
   "metadata": {},
   "outputs": [],
   "source": [
    "dict1 = {}"
   ]
  },
  {
   "cell_type": "code",
   "execution_count": 24,
   "metadata": {},
   "outputs": [],
   "source": [
    "dict1[\"alice@fake.com\"] = ids_pseudos[emails_ids[\"alice@fake.com\"]]"
   ]
  },
  {
   "cell_type": "code",
   "execution_count": 29,
   "metadata": {},
   "outputs": [],
   "source": [
    "dict1[\"bob@bidon.fr\"] = ids_pseudos[emails_ids[\"bob@bidon.fr\"]]"
   ]
  },
  {
   "cell_type": "code",
   "execution_count": 30,
   "metadata": {},
   "outputs": [],
   "source": [
    "dict1[\"chris@false.uk\"] = ids_pseudos[emails_ids[\"chris@false.uk\"]]"
   ]
  },
  {
   "cell_type": "code",
   "execution_count": 31,
   "metadata": {},
   "outputs": [
    {
     "data": {
      "text/plain": [
       "{'alice@fake.com': 'alice',\n",
       " 'bob@bidon.fr': 'B0b',\n",
       " 'chris@false.uk': 'ChristoF'}"
      ]
     },
     "execution_count": 31,
     "metadata": {},
     "output_type": "execute_result"
    }
   ],
   "source": [
    "dict1"
   ]
  },
  {
   "cell_type": "code",
   "execution_count": 32,
   "metadata": {},
   "outputs": [],
   "source": [
    "fusion = {}\n",
    "for i in emails_ids:\n",
    "    fusion[i] = ids_pseudos[emails_ids[i]]"
   ]
  },
  {
   "cell_type": "code",
   "execution_count": 33,
   "metadata": {},
   "outputs": [
    {
     "data": {
      "text/plain": [
       "{'alice@fake.com': 'alice',\n",
       " 'bob@bidon.fr': 'B0b',\n",
       " 'chris@false.uk': 'ChristoF'}"
      ]
     },
     "execution_count": 33,
     "metadata": {},
     "output_type": "execute_result"
    }
   ],
   "source": [
    "fusion"
   ]
  },
  {
   "cell_type": "code",
   "execution_count": 36,
   "metadata": {},
   "outputs": [],
   "source": [
    "def jointure(emails_ids, ids_pseudos):\n",
    "    fusion = {}\n",
    "    for i in emails_ids:\n",
    "        fusion[i] = ids_pseudos[emails_ids[i]]\n",
    "    return fusion "
   ]
  },
  {
   "cell_type": "code",
   "execution_count": 37,
   "metadata": {},
   "outputs": [
    {
     "data": {
      "text/plain": [
       "{'alice@fake.com': 'alice',\n",
       " 'bob@bidon.fr': 'B0b',\n",
       " 'chris@false.uk': 'ChristoF'}"
      ]
     },
     "execution_count": 37,
     "metadata": {},
     "output_type": "execute_result"
    }
   ],
   "source": [
    "jointure(emails_ids, ids_pseudos)\n"
   ]
  },
  {
   "attachments": {},
   "cell_type": "markdown",
   "metadata": {},
   "source": [
    "``` \n",
    "{\n",
    "    \"alice@fake.com\": \"alice\",\n",
    "    \"bob@bidon.fr\": \"B0b\",\n",
    "    \"chris@false.uk\": \"ChristoF\",\n",
    "}\n",
    "```"
   ]
  },
  {
   "cell_type": "code",
   "execution_count": null,
   "metadata": {},
   "outputs": [],
   "source": [
    "def jointure(emails_ids, ids_pseudos):\n",
    "    j = {}\n",
    "    for i in email_ids:\n",
    "        if i in ids_pseudos:\n",
    "            j[i] = email_ids[i] + ids_pseudos[i]\n",
    "        else:\n",
    "            j[i] = email_ids[i]\n",
    "    for i in d2:\n",
    "        if i not in d:\n",
    "            d[i] = ids_pseudos[i]\n",
    "    return j\n",
    "\n",
    "\n",
    "# Tests\n",
    "emails_ids = {\"alice@fake.com\": 1, \"bob@bidon.fr\": 2, \"chris@false.uk\": 3}\n",
    "ids_pseudos = {1: \"alice\", 2: \"B0b\", 3: \"ChristoF\"}\n",
    "assert jointure(emails_ids, ids_pseudos) == {\n",
    "    \"alice@fake.com\": \"alice\",\n",
    "    \"bob@bidon.fr\": \"B0b\",\n",
    "    \"chris@false.uk\": \"ChristoF\",\n",
    "}\n",
    "\n",
    "emails_ids = {\"alice@fake.com\": 1, \"bob@bidon.fr\": 2, \"chris@false.uk\": 3}\n",
    "ids_pseudos = {1: \"alice\", 2: \"B0b\"}\n",
    "assert jointure(emails_ids, ids_pseudos) == {\n",
    "    \"alice@fake.com\": \"alice\",\n",
    "    \"bob@bidon.fr\": \"B0b\",\n",
    "    \"chris@false.uk\": \"chris@false.uk\",\n",
    "}\n",
    "\n",
    "emails_ids = {\"alice@fake.com\": 5, \"bob@bidon.fr\": 6, \"chris@false.uk\": 3}\n",
    "ids_pseudos = {5: \"Alic3\", 3: \"ChristoF\"}\n",
    "assert jointure(emails_ids, ids_pseudos) == {\n",
    "    \"alice@fake.com\": \"Alic3\",\n",
    "    \"bob@bidon.fr\": \"bob@bidon.fr\",\n",
    "    \"chris@false.uk\": \"ChristoF\",\n",
    "}\n",
    "\n"
   ]
  }
 ],
 "metadata": {
  "kernelspec": {
   "display_name": "Python 3",
   "language": "python",
   "name": "python3"
  },
  "language_info": {
   "codemirror_mode": {
    "name": "ipython",
    "version": 3
   },
   "file_extension": ".py",
   "mimetype": "text/x-python",
   "name": "python",
   "nbconvert_exporter": "python",
   "pygments_lexer": "ipython3",
   "version": "3.8.16 (default, Jan 10 2023, 15:23:34) \n[GCC 9.4.0]"
  },
  "orig_nbformat": 4,
  "vscode": {
   "interpreter": {
    "hash": "9ac03a0a6051494cc606d484d27d20fce22fb7b4d169f583271e11d5ba46a56e"
   }
  }
 },
 "nbformat": 4,
 "nbformat_minor": 2
}
