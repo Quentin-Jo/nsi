{
 "cells": [
  {
   "attachments": {},
   "cell_type": "markdown",
   "metadata": {},
   "source": [
    "# Notebook de révisions sur les dictionnaires :"
   ]
  },
  {
   "attachments": {},
   "cell_type": "markdown",
   "metadata": {},
   "source": [
    "Les dictionnaires sont des types **construits**. Les éléments d'un dictionnaire sont rassemblés et sont identifiés par une **clé**. Pour définir un dictionnaire, on utilise des **acolades**. Ces dictionnaires sont appelés **\"tableaux associatifs\"** ou **\"hashs\"** dans d'autres langages de programmation.\n",
    "\n",
    "Les dictionnaires peuvent :\n",
    "- Inclure n'importe quel types de données\n",
    "- Il peuvent aussi contenir d'autres dictionnaires\n",
    "Les *clés* d'un dictionnaire doivent être de type immuable et ne doivent contenir aucun doublon sous peine que la deuxième clé écrase la première."
   ]
  },
  {
   "attachments": {},
   "cell_type": "markdown",
   "metadata": {},
   "source": [
    "### Comment ajouter des éléments dans un dictionnaire? :"
   ]
  },
  {
   "attachments": {},
   "cell_type": "markdown",
   "metadata": {},
   "source": [
    "Il suffit d'affecter une **valeur** pour la nouvelle **clé**."
   ]
  },
  {
   "cell_type": "code",
   "execution_count": 6,
   "metadata": {},
   "outputs": [],
   "source": [
    "crayon[\"en stock\"] = \"oui\""
   ]
  },
  {
   "attachments": {},
   "cell_type": "markdown",
   "metadata": {},
   "source": [
    "### Comment accéder à des données dans des dictionnaires et les modifier :"
   ]
  },
  {
   "cell_type": "code",
   "execution_count": 4,
   "metadata": {},
   "outputs": [],
   "source": [
    "crayon = {'prix' : 2, 'couleur' : 'noir', 'stock' : 40}"
   ]
  },
  {
   "cell_type": "code",
   "execution_count": 7,
   "metadata": {},
   "outputs": [
    {
     "data": {
      "text/plain": [
       "{'prix': 2, 'couleur': 'noir', 'stock': 40, 'en stock': 'oui'}"
      ]
     },
     "execution_count": 7,
     "metadata": {},
     "output_type": "execute_result"
    }
   ],
   "source": [
    "crayon"
   ]
  },
  {
   "attachments": {},
   "cell_type": "markdown",
   "metadata": {},
   "source": [
    "Pour accéder à des données dans un dictionnaire, il faut d'abord commencer par le nom du dictionnnaire.\n",
    "\n",
    "Ici nous avons **crayon**.\n",
    "\n",
    "Après cela, nous allons mettre entre crochet la valeur que nous souhaitons avoir, par exemple la couleur :"
   ]
  },
  {
   "cell_type": "code",
   "execution_count": 8,
   "metadata": {},
   "outputs": [
    {
     "data": {
      "text/plain": [
       "'noir'"
      ]
     },
     "execution_count": 8,
     "metadata": {},
     "output_type": "execute_result"
    }
   ],
   "source": [
    "crayon['couleur']"
   ]
  },
  {
   "attachments": {},
   "cell_type": "markdown",
   "metadata": {},
   "source": [
    "Il est aussi possible de **modifier** les valeurs d'un dictionnaire :"
   ]
  },
  {
   "cell_type": "code",
   "execution_count": 10,
   "metadata": {},
   "outputs": [],
   "source": [
    "crayon['couleur'] = \"rouge\""
   ]
  },
  {
   "attachments": {},
   "cell_type": "markdown",
   "metadata": {},
   "source": [
    "Si on regarde la valeur à nouveau :"
   ]
  },
  {
   "cell_type": "code",
   "execution_count": 11,
   "metadata": {},
   "outputs": [
    {
     "data": {
      "text/plain": [
       "'rouge'"
      ]
     },
     "execution_count": 11,
     "metadata": {},
     "output_type": "execute_result"
    }
   ],
   "source": [
    "crayon['couleur']"
   ]
  },
  {
   "attachments": {},
   "cell_type": "markdown",
   "metadata": {},
   "source": [
    "#### On peut aussi supprimer un élément et récupérer sa valeur :"
   ]
  },
  {
   "attachments": {},
   "cell_type": "markdown",
   "metadata": {},
   "source": [
    "En effet, pour supprimer des éléments, nous allons utiliser la méthode **pop** qui va supprimer l'élément et qui va le renvoyer dans une variable."
   ]
  },
  {
   "cell_type": "code",
   "execution_count": 12,
   "metadata": {},
   "outputs": [],
   "source": [
    "element = crayon.pop('en stock')"
   ]
  },
  {
   "cell_type": "code",
   "execution_count": 13,
   "metadata": {},
   "outputs": [
    {
     "data": {
      "text/plain": [
       "'oui'"
      ]
     },
     "execution_count": 13,
     "metadata": {},
     "output_type": "execute_result"
    }
   ],
   "source": [
    "element"
   ]
  },
  {
   "attachments": {},
   "cell_type": "markdown",
   "metadata": {},
   "source": [
    "Ou on peut simplement utiliser la méthode **clear** pour vider complètement un dictionnaire et en refaire un autre."
   ]
  },
  {
   "attachments": {},
   "cell_type": "markdown",
   "metadata": {},
   "source": [
    "#### Il est aussi possible d'itérer sur les clés et les valeurs :"
   ]
  },
  {
   "attachments": {},
   "cell_type": "markdown",
   "metadata": {},
   "source": [
    "Pour itérer sur les clés, nous allons utiliser la méthode **keys**, on peut l'utiliser dans une boucle ou à l'extérieur."
   ]
  },
  {
   "cell_type": "code",
   "execution_count": 15,
   "metadata": {},
   "outputs": [
    {
     "name": "stdout",
     "output_type": "stream",
     "text": [
      "prix\n",
      "couleur\n",
      "stock\n"
     ]
    },
    {
     "data": {
      "text/plain": [
       "dict_keys(['prix', 'couleur', 'stock'])"
      ]
     },
     "execution_count": 15,
     "metadata": {},
     "output_type": "execute_result"
    }
   ],
   "source": [
    "for key in crayon.keys():\n",
    "    print(key)\n",
    "\n",
    "\n",
    "cles = crayon.keys()\n",
    "cles"
   ]
  },
  {
   "attachments": {},
   "cell_type": "markdown",
   "metadata": {},
   "source": [
    "Mais pour itérer sur les valeurs, nous avons à la disposition la méthode **values**."
   ]
  },
  {
   "cell_type": "code",
   "execution_count": 16,
   "metadata": {},
   "outputs": [
    {
     "name": "stdout",
     "output_type": "stream",
     "text": [
      "2\n",
      "rouge\n",
      "40\n"
     ]
    }
   ],
   "source": [
    "for value in crayon.values():\n",
    "    print(value)"
   ]
  },
  {
   "attachments": {},
   "cell_type": "markdown",
   "metadata": {},
   "source": [
    "Mais on peut aussi combiner les deux résultats précédents avec la méthode **items** qui récupère toutes les clés et les valeurs."
   ]
  },
  {
   "cell_type": "code",
   "execution_count": 18,
   "metadata": {},
   "outputs": [
    {
     "name": "stdout",
     "output_type": "stream",
     "text": [
      "prix 2\n",
      "couleur rouge\n",
      "stock 40\n"
     ]
    }
   ],
   "source": [
    "for key, value in crayon.items():\n",
    "    print(key, value)"
   ]
  },
  {
   "attachments": {},
   "cell_type": "markdown",
   "metadata": {},
   "source": [
    "On peut aussi vérifier la présence d'une clé grâce à l'opérateur **in**:"
   ]
  },
  {
   "cell_type": "code",
   "execution_count": 20,
   "metadata": {},
   "outputs": [
    {
     "name": "stdout",
     "output_type": "stream",
     "text": [
      "False\n",
      "True\n"
     ]
    }
   ],
   "source": [
    "print('rouge' in crayon)\n",
    "print('prix' in crayon)"
   ]
  },
  {
   "attachments": {},
   "cell_type": "markdown",
   "metadata": {},
   "source": [
    "### Pour fusionner des dictionnaires simplement, il existe des commandes :"
   ]
  },
  {
   "cell_type": "code",
   "execution_count": 5,
   "metadata": {},
   "outputs": [
    {
     "data": {
      "text/plain": [
       "{'a': 5, 'b': 15, 'c': 25, 'd': 3, 'e': 9, 'f': 18}"
      ]
     },
     "execution_count": 5,
     "metadata": {},
     "output_type": "execute_result"
    }
   ],
   "source": [
    "dictionnaire1 = {'a' : 5, 'b' : 15, 'c': 25}\n",
    "dictionnaire2 = {'d' : 3, 'e' : 9, 'f' : 18}\n",
    "# En utilisant \"**\", il est possible de fusionner les deux dictionnaires\n",
    "fusion = {**dictionnaire1, **dictionnaire2}\n",
    "fusion"
   ]
  },
  {
   "attachments": {},
   "cell_type": "markdown",
   "metadata": {},
   "source": [
    "##### Exercice Jointure Dictionnaires :"
   ]
  },
  {
   "cell_type": "code",
   "execution_count": 29,
   "metadata": {},
   "outputs": [],
   "source": [
    "def jointure(emails_ids, ids_pseudos):\n",
    "    fusion = {}\n",
    "    for i in emails_ids:\n",
    "        fusion[i] = ids_pseudos[emails_ids[i]]\n",
    "    return fusion "
   ]
  },
  {
   "cell_type": "code",
   "execution_count": 30,
   "metadata": {},
   "outputs": [
    {
     "ename": "NameError",
     "evalue": "name 'emails_ids' is not defined",
     "output_type": "error",
     "traceback": [
      "\u001b[0;31m---------------------------------------------------------------------------\u001b[0m",
      "\u001b[0;31mNameError\u001b[0m                                 Traceback (most recent call last)",
      "Cell \u001b[0;32mIn[30], line 1\u001b[0m\n\u001b[0;32m----> 1\u001b[0m jointure(emails_ids, ids_pseudos)\n",
      "\u001b[0;31mNameError\u001b[0m: name 'emails_ids' is not defined"
     ]
    }
   ],
   "source": [
    "jointure(emails_ids, ids_pseudos)"
   ]
  },
  {
   "attachments": {},
   "cell_type": "markdown",
   "metadata": {},
   "source": [
    "``` \n",
    "{\n",
    "    \"alice@fake.com\": \"alice\",\n",
    "    \"bob@bidon.fr\": \"B0b\",\n",
    "    \"chris@false.uk\": \"ChristoF\",\n",
    "}\n",
    "```"
   ]
  },
  {
   "attachments": {},
   "cell_type": "markdown",
   "metadata": {},
   "source": [
    "## Exercice 1 du Sujet 8 :"
   ]
  },
  {
   "cell_type": "code",
   "execution_count": 2,
   "metadata": {},
   "outputs": [],
   "source": [
    "def max_dico(dico:dict)->tuple:\n",
    "    '''\n",
    "    • Définition :\n",
    "    - Prend en entrée un dictionnaire d'utilisateurs avec leur nombre de like et renvoie un tuple de l'utilisateur ayant le maxiumum de like\n",
    "    • Précondition :\n",
    "    - dico : un dictionnaire non vide dont les clés sont des chaînes de caractères et les valeurs associées sont des entiers positifs ou nuls\n",
    "    • Postcondition :\n",
    "    - Un tuple de la clé du dictionnaire associée à la valeur maximale ainsi que cette dernière\n",
    "    • Exemple :\n",
    "    - max_dico({'Bob': 102, 'Ada': 201, 'Alice': 103, 'Tim': 50})\n",
    "    > ('Ada', 201)\n",
    "    '''\n",
    "    like_max = 0\n",
    "    for i in dico:\n",
    "        if dico[i] >= like_max:\n",
    "            like_max = dico[i]\n",
    "            utilisateur = i\n",
    "    return (utilisateur, like_max)"
   ]
  },
  {
   "attachments": {},
   "cell_type": "markdown",
   "metadata": {},
   "source": [
    "Ici, nous avons une fonction qui va renvoyer le **plus grand** nombre de likes dans le *dictionnaire*. C'est une lecture d'éléments dans ce dictionnaire qui va renvoyer un tuple.\n",
    "\n",
    "**Exemple : max_dico({'Bob': 102, 'Ada': 201, 'Alice': 103, 'Tim': 50})**\n",
    "- Renvoie :  ('Ada', 201)"
   ]
  },
  {
   "attachments": {},
   "cell_type": "markdown",
   "metadata": {},
   "source": [
    "## Exercice 2 du Sujet 16 :"
   ]
  },
  {
   "cell_type": "code",
   "execution_count": 26,
   "metadata": {},
   "outputs": [],
   "source": [
    "resultats = {'Dupont': {\n",
    " 'DS1': [15.5, 4],\n",
    "'DM1': [14.5, 1],\n",
    "'DS2': [13, 4],\n",
    " 'PROJET1': [16, 3],\n",
    " 'DS3': [14, 4]\n",
    " },\n",
    " 'Durand': {\n",
    " 'DS1': [6 , 4],\n",
    "'DM1': [14.5, 1],\n",
    "'DS2': [8, 4],\n",
    "'PROJET1': [9, 3],\n",
    "'IE1': [7, 2],\n",
    "'DS3': [8, 4],\n",
    "'DS4':[15, 4]\n",
    " }\n",
    " }"
   ]
  },
  {
   "cell_type": "code",
   "execution_count": 27,
   "metadata": {},
   "outputs": [],
   "source": [
    "def moyenne(nom, dico_result):\n",
    "    if nom in dico_result:\n",
    "        notes = dico_result[nom]\n",
    "        total_points = 0\n",
    "        total_coefficients = 0\n",
    "        for valeurs in notes.values():\n",
    "            note, coefficient = valeurs\n",
    "            total_points = total_points + note * coefficient\n",
    "            total_coefficients = total_coefficients + coefficient\n",
    "        return round( total_points / total_coefficients, 1 )\n",
    "    else:\n",
    "        return -1"
   ]
  },
  {
   "attachments": {},
   "cell_type": "markdown",
   "metadata": {},
   "source": [
    "Ici, nous avons une fonction qui prend en entrée un dictionnaire avec le nom des élèves et leur moyennes et qui va renvoyer leur moyenne arrondie au dixième."
   ]
  },
  {
   "cell_type": "code",
   "execution_count": 28,
   "metadata": {},
   "outputs": [
    {
     "data": {
      "text/plain": [
       "14.5"
      ]
     },
     "execution_count": 28,
     "metadata": {},
     "output_type": "execute_result"
    }
   ],
   "source": [
    "# Exemple :\n",
    "moyenne('Dupont', resultats)"
   ]
  },
  {
   "attachments": {},
   "cell_type": "markdown",
   "metadata": {},
   "source": [
    "## Exercice 1 du Sujet 23 :"
   ]
  },
  {
   "cell_type": "code",
   "execution_count": null,
   "metadata": {},
   "outputs": [],
   "source": [
    "animaux = [ {'nom':'Medor', 'espece':'chien', 'age':5, 'enclos':2},\n",
    " {'nom':'Titine', 'espece':'chat', 'age':2, 'enclos':5},\n",
    " {'nom':'Tom', 'espece':'chat', 'age':7, 'enclos':4},\n",
    " {'nom':'Belle', 'espece':'chien', 'age':6, 'enclos':3},\n",
    " {'nom':'Mirza', 'espece':'chat', 'age':6, 'enclos':5}]\n",
    "def selection_enclos(table_animaux:dict, num_enclos:int):\n",
    "    '''\n",
    "    Fonction qui renvoie une table qui contient les enrengistrements de table_animaux\n",
    "    dont l'attribut 'enclos' est num_enclos\n",
    "    '''\n",
    "    tab = []\n",
    "    for i in table_animaux:\n",
    "        if i['enclos'] == num_enclos:\n",
    "            tab.append(i)\n",
    "    return tab"
   ]
  },
  {
   "attachments": {},
   "cell_type": "markdown",
   "metadata": {},
   "source": [
    "Ici, nous avons une fonction qui prend en entrée le dictionnaire **animaux** et le **numéro de l'enclos** et qui renvoie les enregistrements de table_animaux dont la clé **enclos** est num_enclos."
   ]
  },
  {
   "cell_type": "code",
   "execution_count": 25,
   "metadata": {},
   "outputs": [
    {
     "data": {
      "text/plain": [
       "[{'nom': 'Medor', 'espece': 'chien', 'age': 5, 'enclos': 2}]"
      ]
     },
     "execution_count": 25,
     "metadata": {},
     "output_type": "execute_result"
    }
   ],
   "source": [
    "selection_enclos(animaux, 2)"
   ]
  },
  {
   "cell_type": "code",
   "execution_count": null,
   "metadata": {},
   "outputs": [],
   "source": []
  }
 ],
 "metadata": {
  "kernelspec": {
   "display_name": "Python 3",
   "language": "python",
   "name": "python3"
  },
  "language_info": {
   "codemirror_mode": {
    "name": "ipython",
    "version": 3
   },
   "file_extension": ".py",
   "mimetype": "text/x-python",
   "name": "python",
   "nbconvert_exporter": "python",
   "pygments_lexer": "ipython3",
   "version": "3.8.16"
  },
  "orig_nbformat": 4,
  "vscode": {
   "interpreter": {
    "hash": "9ac03a0a6051494cc606d484d27d20fce22fb7b4d169f583271e11d5ba46a56e"
   }
  }
 },
 "nbformat": 4,
 "nbformat_minor": 2
}
