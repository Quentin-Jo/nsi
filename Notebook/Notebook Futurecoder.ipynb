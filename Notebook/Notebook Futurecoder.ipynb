{
 "cells": [
  {
   "cell_type": "markdown",
   "metadata": {},
   "source": [
    "# Futurecoder NoteBook"
   ]
  },
  {
   "cell_type": "markdown",
   "metadata": {},
   "source": [
    "# Commandes Basiques du type Opérations"
   ]
  },
  {
   "cell_type": "markdown",
   "metadata": {},
   "source": [
    "Dans la console, il est possible d'éffectuer des opérations du type :\n",
    "\n",
    "1+2 :"
   ]
  },
  {
   "cell_type": "code",
   "execution_count": 1,
   "metadata": {},
   "outputs": [
    {
     "data": {
      "text/plain": [
       "3"
      ]
     },
     "execution_count": 1,
     "metadata": {},
     "output_type": "execute_result"
    }
   ],
   "source": [
    "# 1 + 2 sera donc normalement égal à 3.\n",
    "\n",
    "1 + 2"
   ]
  },
  {
   "cell_type": "markdown",
   "metadata": {},
   "source": [
    "Nous pouvons aussi avoir des multiplications ou des divisions avec les signes '*' et '/', '*' pour la multiplication et '/' pour la division. Exemple :"
   ]
  },
  {
   "cell_type": "code",
   "execution_count": 3,
   "metadata": {},
   "outputs": [
    {
     "data": {
      "text/plain": [
       "12"
      ]
     },
     "execution_count": 3,
     "metadata": {},
     "output_type": "execute_result"
    }
   ],
   "source": [
    "3*4"
   ]
  },
  {
   "cell_type": "code",
   "execution_count": 4,
   "metadata": {},
   "outputs": [
    {
     "data": {
      "text/plain": [
       "2.5"
      ]
     },
     "execution_count": 4,
     "metadata": {},
     "output_type": "execute_result"
    }
   ],
   "source": [
    "5/2"
   ]
  },
  {
   "cell_type": "markdown",
   "metadata": {},
   "source": [
    "Dans la console, il est aussi possible de refaire apparaitre la dernière ligne de code utilisée. C'est l'historique. Il est possible de défiler dans cet historique avec la flèche du haut et du bas."
   ]
  },
  {
   "cell_type": "markdown",
   "metadata": {},
   "source": [
    "# Chaines de caractères"
   ]
  },
  {
   "cell_type": "markdown",
   "metadata": {},
   "source": [
    "Python ne sert pas que à faire des calculs, en effet il est possible de créer des \"portions\" de texte en créant des chaînes de caracters du type : 'hello' qui va donc renvoyer 'hello' dans la console. Exemple : "
   ]
  },
  {
   "cell_type": "code",
   "execution_count": 5,
   "metadata": {},
   "outputs": [
    {
     "data": {
      "text/plain": [
       "'hello'"
      ]
     },
     "execution_count": 5,
     "metadata": {},
     "output_type": "execute_result"
    }
   ],
   "source": [
    "# Nous pouvons écrire n'importe quel mot ici.\n",
    "\n",
    "'hello'"
   ]
  },
  {
   "cell_type": "markdown",
   "metadata": {},
   "source": [
    "Python nous laisse aussi ajouter des chaines de caractère ensemble, comme 'hello' + 'world', ce qui va donc fusionner les chaines de carcatère en une.\n",
    "\n",
    "Cette action s'appelle **la concaténation**, c'est le principe d'ajouter deux chaines de caractères."
   ]
  },
  {
   "cell_type": "code",
   "execution_count": 6,
   "metadata": {},
   "outputs": [
    {
     "data": {
      "text/plain": [
       "'helloworld'"
      ]
     },
     "execution_count": 6,
     "metadata": {},
     "output_type": "execute_result"
    }
   ],
   "source": [
    "'hello' + 'world'"
   ]
  },
  {
   "cell_type": "markdown",
   "metadata": {},
   "source": [
    "Comme vous avez pu le remarquer, les deux mots sont collés ensemble. Pour remédier à cela, il existe plusieurs solutions possibles.\n",
    "\n",
    "Nous pouvons écrire :\n",
    "'hello ' + 'world'\n",
    "'hello' + ' world'\n",
    "ou encore\n",
    "'hello' + ' ' + 'world'\n",
    "Cela va renvoyer la chaine de carcatère 'hello world'."
   ]
  },
  {
   "cell_type": "code",
   "execution_count": 8,
   "metadata": {},
   "outputs": [
    {
     "data": {
      "text/plain": [
       "'hello world'"
      ]
     },
     "execution_count": 8,
     "metadata": {},
     "output_type": "execute_result"
    }
   ],
   "source": [
    "'hello ' + 'world'\n",
    "# Le résultat sera le même si vous utilisez chacune de ces trois méthodes."
   ]
  },
  {
   "cell_type": "markdown",
   "metadata": {},
   "source": [
    "# Les Variables"
   ]
  },
  {
   "cell_type": "markdown",
   "metadata": {},
   "source": [
    "Comme dans un script, nous n'utilisons pas tout le temps les même valeurs, on doit donc trouver une façon de faire évoluer ces valeurs inconnues. On appelle cela des variables.\n",
    "\n",
    "Une variable se définit avec ce format : \n",
    "\n",
    "mot = 'hello'\n",
    "\n",
    "La variable \"mot\" aura donc pour valeur 'hello'"
   ]
  },
  {
   "cell_type": "code",
   "execution_count": 10,
   "metadata": {},
   "outputs": [
    {
     "data": {
      "text/plain": [
       "'Hello'"
      ]
     },
     "execution_count": 10,
     "metadata": {},
     "output_type": "execute_result"
    }
   ],
   "source": [
    "mot = 'Hello'\n",
    "\n",
    "# Si on éxecute ce code, il ne va rien se produire, la variable va juste prendre la \n",
    "# valeur de 'hello', si on veut l'afficher, il faut donc écrire 'mot'\n",
    "\n",
    "mot"
   ]
  },
  {
   "cell_type": "markdown",
   "metadata": {},
   "source": [
    "Attention, si vous écrivez mot sans définir la variable, il y aura donc une erreur, vous disant que la variable n'est pas définie."
   ]
  },
  {
   "cell_type": "markdown",
   "metadata": {},
   "source": [
    "Comme pour les chaines de caractères, il est possible d'ajouter des variables ensemble.\n",
    "Comme : \n",
    "mot = 'hello'\n",
    "nom = 'joseph'\n",
    "\n",
    "Si on écrit mot + ' ' + nom\n",
    "\n",
    "On va donc avoir 'hello joseph'"
   ]
  },
  {
   "cell_type": "code",
   "execution_count": 12,
   "metadata": {},
   "outputs": [
    {
     "data": {
      "text/plain": [
       "'hello joseph'"
      ]
     },
     "execution_count": 12,
     "metadata": {},
     "output_type": "execute_result"
    }
   ],
   "source": [
    "mot = 'hello'\n",
    "nom = 'joseph'\n",
    "\n",
    "mot + ' ' + nom"
   ]
  },
  {
   "cell_type": "markdown",
   "metadata": {},
   "source": [
    "Pour enlever les guillements, il est possible d'utiliser une autre méthode.\n",
    "\n",
    "Le print. Le print va afficher le contenu réel des variables sans afficher les guillements.\n",
    "\n",
    "print(mot + ' ' + nom) devra normalement renvoyer : hello joseph"
   ]
  },
  {
   "cell_type": "code",
   "execution_count": null,
   "metadata": {},
   "outputs": [],
   "source": [
    "print(mot + ' ' + nom)"
   ]
  },
  {
   "cell_type": "markdown",
   "metadata": {},
   "source": [
    "Ces codes étaient jusqu'à maintenant écrits dans la console, cependant, il existe un autre moyen d'éxecuter des scripts plus longs. C'est l'éditeur.\n",
    "\n",
    "Par exemple, si nous voulons qu'il y ait un tiret devant chaque mots ou lettres que nous allons afficher, nous allons pouvoir utiliser le code ci-dessous :"
   ]
  },
  {
   "cell_type": "code",
   "execution_count": 1,
   "metadata": {},
   "outputs": [
    {
     "name": "stdout",
     "output_type": "stream",
     "text": [
      " - W\n",
      " - Wo\n",
      " - Wor\n",
      " - Worl\n",
      " - World\n"
     ]
    }
   ],
   "source": [
    "nom = 'World'\n",
    "ligne = ' - '\n",
    "for caractere in nom:\n",
    "    ligne = ligne + caractere\n",
    "    print(ligne)"
   ]
  },
  {
   "cell_type": "markdown",
   "metadata": {},
   "source": [
    "Attention! Si vous retirez **print** dans votre code, rien ne va s'afficher."
   ]
  },
  {
   "cell_type": "markdown",
   "metadata": {},
   "source": [
    "# Stockage de résultats avec des variables :"
   ]
  },
  {
   "cell_type": "markdown",
   "metadata": {},
   "source": [
    "On utilise souvent des variables pour stocker des résultats de calculs, ce qui permet de construire des scripts plus complexes. Par exemple :"
   ]
  },
  {
   "cell_type": "code",
   "execution_count": 2,
   "metadata": {},
   "outputs": [
    {
     "name": "stdout",
     "output_type": "stream",
     "text": [
      "Hello World\n"
     ]
    }
   ],
   "source": [
    "mot = 'Hello'\n",
    "nom = 'World'\n",
    "phrase = mot + ' ' + nom\n",
    "print(phrase)"
   ]
  },
  {
   "cell_type": "markdown",
   "metadata": {},
   "source": [
    "# Les boucles **for** : "
   ]
  },
  {
   "cell_type": "markdown",
   "metadata": {},
   "source": [
    "Maintenant que nous avons vu les bases, il est maintenant temps de passer à des choses plus difficiles, ce qui nous amène donc aux boucles **for**. Il existe aussi les boucles **while**, mais nous verrons cela plus tard."
   ]
  },
  {
   "cell_type": "code",
   "execution_count": 8,
   "metadata": {},
   "outputs": [
    {
     "name": "stdout",
     "output_type": "stream",
     "text": [
      "W\n",
      "o\n",
      "r\n",
      "l\n",
      "d\n"
     ]
    }
   ],
   "source": [
    "nom = 'World'\n",
    "for caractere in nom: \n",
    "    print(caractere)"
   ]
  },
  {
   "cell_type": "code",
   "execution_count": 10,
   "metadata": {},
   "outputs": [
    {
     "name": "stdout",
     "output_type": "stream",
     "text": [
      "W\n",
      "o\n",
      "r\n",
      "l\n",
      "d\n"
     ]
    }
   ],
   "source": [
    "nom = 'World'\n",
    "\n",
    "caractere = 'W'\n",
    "print(caractere)\n",
    "\n",
    "caractere = 'o'\n",
    "print(caractere)\n",
    "\n",
    "caractere = 'r'\n",
    "print(caractere)\n",
    "\n",
    "caractere = 'l'\n",
    "print(caractere)\n",
    "\n",
    "caractere = 'd'\n",
    "print(caractere)"
   ]
  },
  {
   "cell_type": "markdown",
   "metadata": {},
   "source": [
    "Une boucle **for** à cette structure :"
   ]
  },
  {
   "cell_type": "markdown",
   "metadata": {},
   "source": [
    "for variable in itérable: code à repéter"
   ]
  },
  {
   "cell_type": "markdown",
   "metadata": {},
   "source": [
    "# L'indentation dans les boucles **for**:\n",
    "\n",
    "Les boucles du style :"
   ]
  },
  {
   "cell_type": "code",
   "execution_count": 11,
   "metadata": {},
   "outputs": [
    {
     "name": "stdout",
     "output_type": "stream",
     "text": [
      "W\n",
      "o\n",
      "r\n",
      "l\n",
      "d\n"
     ]
    }
   ],
   "source": [
    "for caractere in nom: print(caractere)"
   ]
  },
  {
   "cell_type": "markdown",
   "metadata": {},
   "source": [
    "Fonctionne, mais on va préferer l'écrire de cette façon :"
   ]
  },
  {
   "cell_type": "code",
   "execution_count": 13,
   "metadata": {},
   "outputs": [
    {
     "name": "stdout",
     "output_type": "stream",
     "text": [
      "W\n",
      "o\n",
      "r\n",
      "l\n",
      "d\n"
     ]
    }
   ],
   "source": [
    "for caractere in nom:\n",
    "    print(caractere)"
   ]
  },
  {
   "cell_type": "markdown",
   "metadata": {},
   "source": [
    "Quand on retourne à la ligne et que l'on veut rester dans la boucle, il va falloire utiliser une **indentation**, géneralement, les sites le font quand vous revenez à la ligne, mais des fois, ça ne fonctionne pas. Une indentation est un espace de 4 espaces, ces 4 espaces signifient que vous êtes dans la boucle. Sur claviers, il existe une touche tabulation qui remplit cette tâche pour vous, elle se situe normalement sur la gauche de la touche **a**.\n",
    "\n",
    "\n",
    "Ces espaces indiquent à Python quelles lignes de votre code appartient à la boucle et quelles lignes n'y appartient pas. Il est donc nécessaire d'ajouter des indentation quand vous travaillez avec des boucles."
   ]
  },
  {
   "cell_type": "code",
   "execution_count": 14,
   "metadata": {},
   "outputs": [
    {
     "name": "stdout",
     "output_type": "stream",
     "text": [
      "W\n",
      "o\n",
      "r\n",
      "l\n",
      "d\n",
      "---\n"
     ]
    }
   ],
   "source": [
    "nom = 'World'\n",
    "\n",
    "for caractere in nom:\n",
    "    print(caractere)\n",
    "print('---')"
   ]
  },
  {
   "cell_type": "markdown",
   "metadata": {},
   "source": [
    "Le contenu des boucles passe toujours avant le code en dehors de la boucle, comme vous pouvez le voir sur le code ci-dessus.\n",
    "\n",
    "En revanche si vous ne faites pas les mêmes indentations, vous aurez alors une erreur du type :"
   ]
  },
  {
   "cell_type": "code",
   "execution_count": 16,
   "metadata": {},
   "outputs": [
    {
     "ename": "IndentationError",
     "evalue": "unindent does not match any outer indentation level (<tokenize>, line 3)",
     "output_type": "error",
     "traceback": [
      "\u001b[0;36m  File \u001b[0;32m<tokenize>:3\u001b[0;36m\u001b[0m\n\u001b[0;31m    print('---')\u001b[0m\n\u001b[0m    ^\u001b[0m\n\u001b[0;31mIndentationError\u001b[0m\u001b[0;31m:\u001b[0m unindent does not match any outer indentation level\n"
     ]
    }
   ],
   "source": [
    "for caractere in nom:\n",
    "    print(caractere)\n",
    "   print('---')"
   ]
  },
  {
   "cell_type": "markdown",
   "metadata": {},
   "source": [
    "# Construction de chaines :\n",
    "\n",
    "Il est possible de modifier les valeurs des chaines avec un code du type:"
   ]
  },
  {
   "cell_type": "code",
   "execution_count": 17,
   "metadata": {},
   "outputs": [
    {
     "name": "stdout",
     "output_type": "stream",
     "text": [
      "Hello\n",
      "Hello!\n"
     ]
    }
   ],
   "source": [
    "hello = 'Hello'\n",
    "print(hello)\n",
    "hello = hello + '!'\n",
    "print(hello)"
   ]
  },
  {
   "cell_type": "markdown",
   "metadata": {},
   "source": [
    "Comme vous pouvez le voir, la valeur de Hello à changé, c'est très utile quand vous faites des calculs.\n",
    "\n",
    "Avec Python, il est possible de changer une variable en la mettant des deux côtés du signe =\n",
    "\n",
    "Par exemple : coucou = coucou + 'world' va donc changer la variable coucou, en lui donnant comme nouvelle valeur :  **coucouworld**"
   ]
  },
  {
   "cell_type": "code",
   "execution_count": 25,
   "metadata": {},
   "outputs": [
    {
     "data": {
      "text/plain": [
       "'coucouworld'"
      ]
     },
     "execution_count": 25,
     "metadata": {},
     "output_type": "execute_result"
    }
   ],
   "source": [
    "coucou = 'coucou'\n",
    "coucou = coucou + 'world'\n",
    "coucou"
   ]
  },
  {
   "cell_type": "markdown",
   "metadata": {},
   "source": [
    "Pour abréger \"ligne = ligne + caractere\", il est possible d'utiliser : **ligne += caractere** qui fait la même chose."
   ]
  },
  {
   "cell_type": "markdown",
   "metadata": {},
   "source": [
    "## Vocabulaire :\n",
    "\n",
    "Une ***expression*** est un morceau de code qui peut être évaluer et avoir une valeur."
   ]
  },
  {
   "cell_type": "code",
   "execution_count": 3,
   "metadata": {},
   "outputs": [
    {
     "data": {
      "text/plain": [
       "'Hello World'"
      ]
     },
     "execution_count": 3,
     "metadata": {},
     "output_type": "execute_result"
    }
   ],
   "source": [
    "nom = 'World'\n",
    "phrase = 'Hello ' + nom\n",
    "phrase"
   ]
  },
  {
   "cell_type": "markdown",
   "metadata": {},
   "source": [
    "Il y a donc trois expressions : \n",
    "- 1: Hello\n",
    "- 2: nom\n",
    "- 3: 'Hello' + nom\n",
    "\n",
    "La ligne complète phrase = ... est une ***instruction***. C'est une commande qui indique à l'ordinateur d'effectuer une action. Elle n'a donc aucune valeur. On ne peut donc pas ajouter deux instructions ensemble."
   ]
  },
  {
   "cell_type": "markdown",
   "metadata": {},
   "source": [
    "(mot = 'Hello') + (nom = 'Bob') ne fonctionnera donc pas."
   ]
  },
  {
   "cell_type": "markdown",
   "metadata": {},
   "source": [
    "Une instruction comme : phrase = ... où l'on donne une valeur est donnée à une variable est une **affectation** la valeur est affectée à la variable.\n",
    "\n",
    "Un script est une liste d'instructions qui va être exécuté dans un certain ordre. La boucle **for** est appelée ***structure de contrôle***, cela donc signifie qu'elle a un corps qui contient des instructions.\n",
    "\n",
    "Calculer la valeur d'une expression s'appelle **l'évaluer**. L'ordinateur évalue 1+2 pour obtenir 3.\n",
    "\n",
    "Exécuter uben boucle s'appelle **itérer**. Un code comme for carcater in 'Hello': itère sur la chaîne 'hello'."
   ]
  },
  {
   "cell_type": "markdown",
   "metadata": {},
   "source": [
    "# Structures conditionnelles"
   ]
  },
  {
   "cell_type": "markdown",
   "metadata": {},
   "source": [
    "Nous arrivons maintenants au *booléens* il n'en existe que deux : True et False.\n",
    "\n",
    "On utilise généralement les booléens dans des structures **if**, ce sont des **structures conditionnelles**."
   ]
  },
  {
   "cell_type": "markdown",
   "metadata": {},
   "source": [
    "Généralement, **for** et **if** sont utilisés dans des structures imbriquées, c'est à dire où on utilise deux boucles dans une."
   ]
  },
  {
   "cell_type": "markdown",
   "metadata": {},
   "source": [
    "# Observation des programmes avec **snoop**."
   ]
  },
  {
   "cell_type": "markdown",
   "metadata": {},
   "source": [
    "Snoop nous permet de pouvoir observer ce que fait le script de ligne à ligne."
   ]
  },
  {
   "cell_type": "markdown",
   "metadata": {},
   "source": [
    "# Structure conditionnelles avec **if** et **else** :"
   ]
  },
  {
   "cell_type": "markdown",
   "metadata": {},
   "source": [
    "Le else peut être traduit comme un \"ou sinon\"; si la condition du **if** n'est pas respectée, alors les instructions dans le bloc **else** seront exécutées. Les deux blocs seront obligatoirement exécutés."
   ]
  },
  {
   "cell_type": "markdown",
   "metadata": {},
   "source": [
    "## Phrases en majuscules et minuscules :"
   ]
  },
  {
   "cell_type": "markdown",
   "metadata": {},
   "source": [
    "Quand on veut modifier une variable de façon à qu'elle ne possède que des majuscules ou minuscules, on utilise les expressions :\n",
    "\n",
    "**phrase.upper()** et **phrase.lower()**\n",
    "\n",
    "Upper pour les majuscules et lower pour les minuscules."
   ]
  },
  {
   "cell_type": "markdown",
   "metadata": {},
   "source": [
    "# L'opérateur d'égalité : "
   ]
  },
  {
   "cell_type": "markdown",
   "metadata": {},
   "source": [
    "Il existe des opérateurs de comparaison qui comparent la valeur de deux expressions.\n",
    "\n",
    "La plus courant est celle d'égalité qui vérifie si deux valeurs sont égales comme son nom l'indique. Elle est notée par deux signes **égal : ==**"
   ]
  },
  {
   "cell_type": "markdown",
   "metadata": {},
   "source": [
    "# Le mot clé **elif** :"
   ]
  },
  {
   "cell_type": "markdown",
   "metadata": {},
   "source": [
    "Elif est utilisé pour rendre les structures de code plus claire et lisibles, elles font la même chose que si vous utilisez else et if dans la même boucle mais sera plus simple et vous prendra moins de temps à écrire."
   ]
  },
  {
   "cell_type": "markdown",
   "metadata": {},
   "source": [
    "# Les listes :"
   ]
  },
  {
   "cell_type": "markdown",
   "metadata": {},
   "source": []
  }
 ],
 "metadata": {
  "kernelspec": {
   "display_name": "Python 3.8.13 64-bit ('3.8.13')",
   "language": "python",
   "name": "python3"
  },
  "language_info": {
   "codemirror_mode": {
    "name": "ipython",
    "version": 3
   },
   "file_extension": ".py",
   "mimetype": "text/x-python",
   "name": "python",
   "nbconvert_exporter": "python",
   "pygments_lexer": "ipython3",
   "version": "3.8.13"
  },
  "varInspector": {
   "cols": {
    "lenName": 16,
    "lenType": 16,
    "lenVar": 40
   },
   "kernels_config": {
    "python": {
     "delete_cmd_postfix": "",
     "delete_cmd_prefix": "del ",
     "library": "var_list.py",
     "varRefreshCmd": "print(var_dic_list())"
    },
    "r": {
     "delete_cmd_postfix": ") ",
     "delete_cmd_prefix": "rm(",
     "library": "var_list.r",
     "varRefreshCmd": "cat(var_dic_list()) "
    }
   },
   "types_to_exclude": [
    "module",
    "function",
    "builtin_function_or_method",
    "instance",
    "_Feature"
   ],
   "window_display": false
  },
  "vscode": {
   "interpreter": {
    "hash": "110cc1dee26208153f2972f08a2ad52b6a56238dc66d48e87fb757ef2996db56"
   }
  }
 },
 "nbformat": 4,
 "nbformat_minor": 2
}
