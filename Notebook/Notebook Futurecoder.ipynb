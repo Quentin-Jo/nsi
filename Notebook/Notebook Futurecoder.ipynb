{
 "cells": [
  {
   "cell_type": "markdown",
   "metadata": {},
   "source": [
    "# Futurecoder NoteBook"
   ]
  },
  {
   "cell_type": "markdown",
   "metadata": {},
   "source": [
    "# Commandes Basiques du type Opérations"
   ]
  },
  {
   "cell_type": "markdown",
   "metadata": {},
   "source": [
    "Dans la console, il est possible d'éffectuer des opérations du type :\n",
    "\n",
    "1+2 :"
   ]
  },
  {
   "cell_type": "code",
   "execution_count": 1,
   "metadata": {},
   "outputs": [
    {
     "data": {
      "text/plain": [
       "3"
      ]
     },
     "execution_count": 1,
     "metadata": {},
     "output_type": "execute_result"
    }
   ],
   "source": [
    "# 1 + 2 sera donc normalement égal à 3.\n",
    "\n",
    "1 + 2"
   ]
  },
  {
   "cell_type": "markdown",
   "metadata": {},
   "source": [
    "Nous pouvons aussi avoir des multiplications ou des divisions avec les signes '*' et '/', '*' pour la multiplication et '/' pour la division. Exemple :"
   ]
  },
  {
   "cell_type": "code",
   "execution_count": 3,
   "metadata": {},
   "outputs": [
    {
     "data": {
      "text/plain": [
       "12"
      ]
     },
     "execution_count": 3,
     "metadata": {},
     "output_type": "execute_result"
    }
   ],
   "source": [
    "3*4"
   ]
  },
  {
   "cell_type": "code",
   "execution_count": 4,
   "metadata": {},
   "outputs": [
    {
     "data": {
      "text/plain": [
       "2.5"
      ]
     },
     "execution_count": 4,
     "metadata": {},
     "output_type": "execute_result"
    }
   ],
   "source": [
    "5/2"
   ]
  },
  {
   "cell_type": "markdown",
   "metadata": {},
   "source": [
    "Dans la console, il est aussi possible de refaire apparaitre la dernière ligne de code utilisée. C'est l'historique. Il est possible de défiler dans cet historique avec la flèche du haut et du bas."
   ]
  },
  {
   "cell_type": "markdown",
   "metadata": {},
   "source": [
    "# Chaines de caractères"
   ]
  },
  {
   "cell_type": "markdown",
   "metadata": {},
   "source": [
    "Python ne sert pas que à faire des calculs, en effet il est possible de créer des \"portions\" de texte en créant des chaînes de caracters du type : 'hello' qui va donc renvoyer 'hello' dans la console. Exemple : "
   ]
  },
  {
   "cell_type": "code",
   "execution_count": 5,
   "metadata": {},
   "outputs": [
    {
     "data": {
      "text/plain": [
       "'hello'"
      ]
     },
     "execution_count": 5,
     "metadata": {},
     "output_type": "execute_result"
    }
   ],
   "source": [
    "# Nous pouvons écrire n'importe quel mot ici.\n",
    "\n",
    "'hello'"
   ]
  },
  {
   "cell_type": "markdown",
   "metadata": {},
   "source": [
    "Python nous laisse aussi ajouter des chaines de caractère ensemble, comme 'hello' + 'world', ce qui va donc fusionner les chaines de carcatère en une."
   ]
  },
  {
   "cell_type": "code",
   "execution_count": 6,
   "metadata": {},
   "outputs": [
    {
     "data": {
      "text/plain": [
       "'helloworld'"
      ]
     },
     "execution_count": 6,
     "metadata": {},
     "output_type": "execute_result"
    }
   ],
   "source": [
    "'hello' + 'world'"
   ]
  },
  {
   "cell_type": "markdown",
   "metadata": {},
   "source": [
    "Comme vous avez pu le remarquer, les deux mots sont collés ensemble. Pour remédier à cela, il existe plusieurs solutions possibles.\n",
    "\n",
    "Nous pouvons écrire :\n",
    "'hello ' + 'world'\n",
    "'hello' + ' world'\n",
    "ou encore\n",
    "'hello' + ' ' + 'world'\n",
    "Cela va renvoyer la chaine de carcatère 'hello world'."
   ]
  },
  {
   "cell_type": "code",
   "execution_count": 8,
   "metadata": {},
   "outputs": [
    {
     "data": {
      "text/plain": [
       "'hello world'"
      ]
     },
     "execution_count": 8,
     "metadata": {},
     "output_type": "execute_result"
    }
   ],
   "source": [
    "'hello ' + 'world'\n",
    "# Le résultat sera le même si vous utilisez chacune de ces trois méthodes."
   ]
  },
  {
   "cell_type": "markdown",
   "metadata": {},
   "source": [
    "# Les Variables"
   ]
  },
  {
   "cell_type": "markdown",
   "metadata": {},
   "source": [
    "Comme dans un script, nous n'utilisons pas tout le temps les même valeurs, on doit donc trouver une façon de faire évoluer ces valeurs inconnues. On appelle cela des variables.\n",
    "\n",
    "Une variable se définit avec ce format : \n",
    "\n",
    "mot = 'hello'\n",
    "\n",
    "La variable \"mot\" aura donc pour valeur 'hello'"
   ]
  },
  {
   "cell_type": "code",
   "execution_count": 10,
   "metadata": {},
   "outputs": [
    {
     "data": {
      "text/plain": [
       "'Hello'"
      ]
     },
     "execution_count": 10,
     "metadata": {},
     "output_type": "execute_result"
    }
   ],
   "source": [
    "mot = 'Hello'\n",
    "\n",
    "# Si on éxecute ce code, il ne va rien se produire, la variable va juste prendre la \n",
    "# valeur de 'hello', si on veut l'afficher, il faut donc écrire 'mot'\n",
    "\n",
    "mot"
   ]
  },
  {
   "cell_type": "markdown",
   "metadata": {},
   "source": [
    "Attention, si vous écrivez mot sans définir la variable, il y aura donc une erreur, vous disant que la variable n'est pas définie."
   ]
  },
  {
   "cell_type": "markdown",
   "metadata": {},
   "source": [
    "Comme pour les chaines de caractères, il est possible d'ajouter des variables ensemble.\n",
    "Comme : \n",
    "mot = 'hello'\n",
    "nom = 'joseph'\n",
    "\n",
    "Si on écrit mot + ' ' + nom\n",
    "\n",
    "On va donc avoir 'hello joseph'"
   ]
  },
  {
   "cell_type": "code",
   "execution_count": 12,
   "metadata": {},
   "outputs": [
    {
     "data": {
      "text/plain": [
       "'hello joseph'"
      ]
     },
     "execution_count": 12,
     "metadata": {},
     "output_type": "execute_result"
    }
   ],
   "source": [
    "mot = 'hello'\n",
    "nom = 'joseph'\n",
    "\n",
    "mot + ' ' + nom"
   ]
  },
  {
   "cell_type": "markdown",
   "metadata": {},
   "source": [
    "Pour enlever les guillements, il est possible d'utiliser une autre méthode.\n",
    "\n",
    "Le print. Le print va afficher le contenu réel des variables sans afficher les guillements.\n",
    "\n",
    "print(mot + ' ' + nom) devra normalement renvoyer : hello joseph"
   ]
  },
  {
   "cell_type": "code",
   "execution_count": null,
   "metadata": {},
   "outputs": [],
   "source": [
    "print(mot + ' ' + nom)"
   ]
  }
 ],
 "metadata": {
  "kernelspec": {
   "display_name": "Python 3",
   "language": "python",
   "name": "python3"
  },
  "language_info": {
   "codemirror_mode": {
    "name": "ipython",
    "version": 3
   },
   "file_extension": ".py",
   "mimetype": "text/x-python",
   "name": "python",
   "nbconvert_exporter": "python",
   "pygments_lexer": "ipython3",
   "version": "3.7.1"
  },
  "varInspector": {
   "cols": {
    "lenName": 16,
    "lenType": 16,
    "lenVar": 40
   },
   "kernels_config": {
    "python": {
     "delete_cmd_postfix": "",
     "delete_cmd_prefix": "del ",
     "library": "var_list.py",
     "varRefreshCmd": "print(var_dic_list())"
    },
    "r": {
     "delete_cmd_postfix": ") ",
     "delete_cmd_prefix": "rm(",
     "library": "var_list.r",
     "varRefreshCmd": "cat(var_dic_list()) "
    }
   },
   "types_to_exclude": [
    "module",
    "function",
    "builtin_function_or_method",
    "instance",
    "_Feature"
   ],
   "window_display": false
  }
 },
 "nbformat": 4,
 "nbformat_minor": 2
}
