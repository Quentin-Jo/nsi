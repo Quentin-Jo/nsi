{
 "cells": [
  {
   "attachments": {},
   "cell_type": "markdown",
   "metadata": {},
   "source": [
    "# Activités Graphes de David Roche"
   ]
  },
  {
   "attachments": {},
   "cell_type": "markdown",
   "metadata": {},
   "source": [
    "## Exercice 9.1"
   ]
  },
  {
   "attachments": {},
   "cell_type": "markdown",
   "metadata": {},
   "source": [
    "```mermaid\n",
    "graph TD;\n",
    "    A-->B;\n",
    "    A-->E;\n",
    "    B-->C;\n",
    "    C-->F;\n",
    "    C-->D;\n",
    "    D-->E;\n",
    "    E-->F;\n",
    "    F-->D;\n",
    "```"
   ]
  },
  {
   "attachments": {},
   "cell_type": "markdown",
   "metadata": {},
   "source": [
    "## Exercice 9.2"
   ]
  },
  {
   "cell_type": "code",
   "execution_count": null,
   "metadata": {},
   "outputs": [],
   "source": [
    "m = [[0, 1, 1, 1, 1, 0, 0],\n",
    "     [1, 0, 1, 1, 1, 0, 0],\n",
    "     [1, 1, 0, 0, 1, 0, 0],\n",
    "     [1, 1, 0, 0, 0, 0, 0],\n",
    "     [1, 1, 1, 0, 0, 0, 0],\n",
    "     [0, 0, 0, 0, 0, 0, 0],\n",
    "     [0, 0, 0, 0, 0, 0, 0]]"
   ]
  },
  {
   "attachments": {},
   "cell_type": "markdown",
   "metadata": {},
   "source": [
    "## Exercice 9.3"
   ]
  },
  {
   "cell_type": "code",
   "execution_count": null,
   "metadata": {},
   "outputs": [],
   "source": [
    "#liste d'ajacence\n",
    "liste_adjacence = {'A':('B','C','D'), 'B':('A', 'D'), 'C':('A'), 'D':('A', 'B')}\n"
   ]
  },
  {
   "attachments": {},
   "cell_type": "markdown",
   "metadata": {},
   "source": [
    "## Exercice 9.4"
   ]
  },
  {
   "attachments": {},
   "cell_type": "markdown",
   "metadata": {},
   "source": [
    "Oui, le graphe G est orienté. \n",
    "Par exemple : \n",
    "- A va vers B mais B ne va pas vers A."
   ]
  },
  {
   "attachments": {},
   "cell_type": "markdown",
   "metadata": {},
   "source": [
    "```mermaid\n",
    "graph TD;\n",
    "    A((A))-->B((B));\n",
    "    A-->D;\n",
    "    B-->C;\n",
    "    C-->A;\n",
    "```"
   ]
  },
  {
   "attachments": {},
   "cell_type": "markdown",
   "metadata": {},
   "source": [
    "## Exercice 9.5"
   ]
  },
  {
   "attachments": {},
   "cell_type": "markdown",
   "metadata": {},
   "source": [
    "```mermaid\n",
    "graph TD;\n",
    "    A-->B;\n",
    "    A-->C;\n",
    "    A-->E;\n",
    "    B-->E;\n",
    "    C-->D;\n",
    "    \n",
    "```"
   ]
  }
 ],
 "metadata": {
  "kernelspec": {
   "display_name": "Python 3",
   "language": "python",
   "name": "python3"
  },
  "language_info": {
   "name": "python",
   "version": "3.8.16"
  },
  "orig_nbformat": 4
 },
 "nbformat": 4,
 "nbformat_minor": 2
}
