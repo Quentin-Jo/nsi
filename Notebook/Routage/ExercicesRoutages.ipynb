{
 "cells": [
  {
   "attachments": {},
   "cell_type": "markdown",
   "metadata": {},
   "source": [
    "## Exercices sur le routage :"
   ]
  },
  {
   "attachments": {},
   "cell_type": "markdown",
   "metadata": {},
   "source": [
    "(exercice 3)\n",
    "    A((A)) --- |4| B((B))\n",
    "    A((A)) --- |5| E((E))\n",
    "    B((B)) --- |2| C((C))\n",
    "    B((B)) --- |6| F((F))\n",
    "    C((C)) --- |7| D((D))\n",
    "    C((C)) --- |1| E((E))\n",
    "    D((D)) --- |3| F((F))\n",
    "    E((E)) --- |3| F((F))"
   ]
  },
  {
   "attachments": {},
   "cell_type": "markdown",
   "metadata": {},
   "source": [
    "#### Question 1 :"
   ]
  },
  {
   "attachments": {},
   "cell_type": "markdown",
   "metadata": {},
   "source": [
    "| réseau | moyen de l’atteindre | métrique |\n",
    "|:-:|:-:|:-:|\n",
    "| A | E | 97 |\n",
    "B | E | 123 |\n",
    "| C | E | 88 |\n",
    "| D | E | 56 |\n",
    "| E | E | 23 |\n",
    "| F |F  |39|\n",
    "| H  | H | 25 |\n",
    "| I  | I  | 21 |   "
   ]
  },
  {
   "attachments": {},
   "cell_type": "markdown",
   "metadata": {},
   "source": [
    "#### Question 2 :"
   ]
  },
  {
   "attachments": {},
   "cell_type": "markdown",
   "metadata": {},
   "source": [
    "    a. Non.\n",
    "    b. Oui.\n",
    "    c. Non, il manque des informations comme le routeur I"
   ]
  },
  {
   "attachments": {},
   "cell_type": "markdown",
   "metadata": {},
   "source": [
    "```mermaid\n",
    "graph exo3;\n",
    "A((A)) ---> |4| B((B))\n",
    "A((A)) ---> |5| E((E))\n",
    "B((B)) ---> |2| C((C))\n",
    "B((B)) ---> |6| F((F))\n",
    "C((C)) ---> |7| D((D))\n",
    "C((C)) ---> |1| E((E))\n",
    "D((D)) ---> |3| F((F))\n",
    "E((E)) ---> |3| F((F))\n",
    "```"
   ]
  },
  {
   "cell_type": "code",
   "execution_count": null,
   "metadata": {},
   "outputs": [],
   "source": []
  }
 ],
 "metadata": {
  "kernelspec": {
   "display_name": "Python 3",
   "language": "python",
   "name": "python3"
  },
  "language_info": {
   "codemirror_mode": {
    "name": "ipython",
    "version": 3
   },
   "file_extension": ".py",
   "mimetype": "text/x-python",
   "name": "python",
   "nbconvert_exporter": "python",
   "pygments_lexer": "ipython3",
   "version": "3.8.13"
  },
  "orig_nbformat": 4,
  "vscode": {
   "interpreter": {
    "hash": "9ac03a0a6051494cc606d484d27d20fce22fb7b4d169f583271e11d5ba46a56e"
   }
  }
 },
 "nbformat": 4,
 "nbformat_minor": 2
}
